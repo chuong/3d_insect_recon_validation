{
  "nbformat": 4,
  "nbformat_minor": 0,
  "metadata": {
    "accelerator": "GPU",
    "colab": {
      "name": "nerf_colab.ipynb",
      "provenance": [],
      "collapsed_sections": [
        "6jk8eHzM91td"
      ]
    },
    "kernelspec": {
      "display_name": "Python 3",
      "name": "python3"
    }
  },
  "cells": [
    {
      "cell_type": "markdown",
      "metadata": {
        "id": "FgaguaEW5k_e"
      },
      "source": [
        "All code in this notebook is from: https://github.com/kwea123/nerf_pl"
      ]
    },
    {
      "cell_type": "markdown",
      "metadata": {
        "id": "8FtjuySytsiD"
      },
      "source": [
        "# Installation (only required for the first run)"
      ]
    },
    {
      "cell_type": "code",
      "metadata": {
        "colab": {
          "base_uri": "https://localhost:8080/"
        },
        "id": "GjDZ_CNzoncH",
        "outputId": "babb88b7-1f1d-4993-9690-360ca0287653"
      },
      "source": [
        "!git clone --recursive https://github.com/kwea123/nerf_pl\n",
        "\n",
        "%cd /content/nerf_pl\n",
        "!pip install -r requirements.txt\n",
        "\n",
        "%cd /content/nerf_pl/torchsearchsorted\n",
        "!pip install ."
      ],
      "execution_count": null,
      "outputs": [
        {
          "output_type": "stream",
          "text": [
            "fatal: destination path 'nerf_pl' already exists and is not an empty directory.\n",
            "/content/nerf_pl\n",
            "Requirement already satisfied: torch==1.4.0 in /usr/local/lib/python3.7/dist-packages (from -r requirements.txt (line 1)) (1.4.0)\n",
            "Requirement already satisfied: torchvision==0.5.0 in /usr/local/lib/python3.7/dist-packages (from -r requirements.txt (line 2)) (0.5.0)\n",
            "Requirement already satisfied: pytorch-lightning==0.7.5 in /usr/local/lib/python3.7/dist-packages (from -r requirements.txt (line 3)) (0.7.5)\n",
            "Requirement already satisfied: test-tube in /usr/local/lib/python3.7/dist-packages (from -r requirements.txt (line 4)) (0.7.5)\n",
            "Requirement already satisfied: kornia==0.2.0 in /usr/local/lib/python3.7/dist-packages (from -r requirements.txt (line 5)) (0.2.0)\n",
            "Requirement already satisfied: opencv-python==4.2.0.34 in /usr/local/lib/python3.7/dist-packages (from -r requirements.txt (line 6)) (4.2.0.34)\n",
            "Requirement already satisfied: matplotlib in /usr/local/lib/python3.7/dist-packages (from -r requirements.txt (line 7)) (3.2.2)\n",
            "Requirement already satisfied: jupyter in /usr/local/lib/python3.7/dist-packages (from -r requirements.txt (line 8)) (1.0.0)\n",
            "Requirement already satisfied: PyMCubes in /usr/local/lib/python3.7/dist-packages (from -r requirements.txt (line 11)) (0.1.2)\n",
            "Requirement already satisfied: pycollada in /usr/local/lib/python3.7/dist-packages (from -r requirements.txt (line 12)) (0.7.1)\n",
            "Requirement already satisfied: trimesh in /usr/local/lib/python3.7/dist-packages (from -r requirements.txt (line 13)) (3.9.24)\n",
            "Requirement already satisfied: pyglet in /usr/local/lib/python3.7/dist-packages (from -r requirements.txt (line 14)) (1.5.0)\n",
            "Requirement already satisfied: plyfile in /usr/local/lib/python3.7/dist-packages (from -r requirements.txt (line 17)) (0.7.4)\n",
            "Requirement already satisfied: open3d in /usr/local/lib/python3.7/dist-packages (from -r requirements.txt (line 18)) (0.13.0)\n",
            "Requirement already satisfied: six in /usr/local/lib/python3.7/dist-packages (from torchvision==0.5.0->-r requirements.txt (line 2)) (1.15.0)\n",
            "Requirement already satisfied: numpy in /usr/local/lib/python3.7/dist-packages (from torchvision==0.5.0->-r requirements.txt (line 2)) (1.19.5)\n",
            "Requirement already satisfied: pillow>=4.1.1 in /usr/local/lib/python3.7/dist-packages (from torchvision==0.5.0->-r requirements.txt (line 2)) (8.3.1)\n",
            "Requirement already satisfied: tensorboard>=1.14 in /usr/local/lib/python3.7/dist-packages (from pytorch-lightning==0.7.5->-r requirements.txt (line 3)) (2.5.0)\n",
            "Requirement already satisfied: tqdm>=4.41.0 in /usr/local/lib/python3.7/dist-packages (from pytorch-lightning==0.7.5->-r requirements.txt (line 3)) (4.41.1)\n",
            "Requirement already satisfied: future>=0.17.1 in /usr/local/lib/python3.7/dist-packages (from pytorch-lightning==0.7.5->-r requirements.txt (line 3)) (0.18.2)\n",
            "Requirement already satisfied: markdown>=2.6.8 in /usr/local/lib/python3.7/dist-packages (from tensorboard>=1.14->pytorch-lightning==0.7.5->-r requirements.txt (line 3)) (3.3.4)\n",
            "Requirement already satisfied: absl-py>=0.4 in /usr/local/lib/python3.7/dist-packages (from tensorboard>=1.14->pytorch-lightning==0.7.5->-r requirements.txt (line 3)) (0.12.0)\n",
            "Requirement already satisfied: tensorboard-data-server<0.7.0,>=0.6.0 in /usr/local/lib/python3.7/dist-packages (from tensorboard>=1.14->pytorch-lightning==0.7.5->-r requirements.txt (line 3)) (0.6.1)\n",
            "Requirement already satisfied: tensorboard-plugin-wit>=1.6.0 in /usr/local/lib/python3.7/dist-packages (from tensorboard>=1.14->pytorch-lightning==0.7.5->-r requirements.txt (line 3)) (1.8.0)\n",
            "Requirement already satisfied: requests<3,>=2.21.0 in /usr/local/lib/python3.7/dist-packages (from tensorboard>=1.14->pytorch-lightning==0.7.5->-r requirements.txt (line 3)) (2.23.0)\n",
            "Requirement already satisfied: werkzeug>=0.11.15 in /usr/local/lib/python3.7/dist-packages (from tensorboard>=1.14->pytorch-lightning==0.7.5->-r requirements.txt (line 3)) (1.0.1)\n",
            "Requirement already satisfied: wheel>=0.26 in /usr/local/lib/python3.7/dist-packages (from tensorboard>=1.14->pytorch-lightning==0.7.5->-r requirements.txt (line 3)) (0.36.2)\n",
            "Requirement already satisfied: google-auth<2,>=1.6.3 in /usr/local/lib/python3.7/dist-packages (from tensorboard>=1.14->pytorch-lightning==0.7.5->-r requirements.txt (line 3)) (1.32.1)\n",
            "Requirement already satisfied: protobuf>=3.6.0 in /usr/local/lib/python3.7/dist-packages (from tensorboard>=1.14->pytorch-lightning==0.7.5->-r requirements.txt (line 3)) (3.17.3)\n",
            "Requirement already satisfied: google-auth-oauthlib<0.5,>=0.4.1 in /usr/local/lib/python3.7/dist-packages (from tensorboard>=1.14->pytorch-lightning==0.7.5->-r requirements.txt (line 3)) (0.4.4)\n",
            "Requirement already satisfied: setuptools>=41.0.0 in /usr/local/lib/python3.7/dist-packages (from tensorboard>=1.14->pytorch-lightning==0.7.5->-r requirements.txt (line 3)) (57.2.0)\n",
            "Requirement already satisfied: grpcio>=1.24.3 in /usr/local/lib/python3.7/dist-packages (from tensorboard>=1.14->pytorch-lightning==0.7.5->-r requirements.txt (line 3)) (1.34.1)\n",
            "Requirement already satisfied: cachetools<5.0,>=2.0.0 in /usr/local/lib/python3.7/dist-packages (from google-auth<2,>=1.6.3->tensorboard>=1.14->pytorch-lightning==0.7.5->-r requirements.txt (line 3)) (4.2.2)\n",
            "Requirement already satisfied: rsa<5,>=3.1.4 in /usr/local/lib/python3.7/dist-packages (from google-auth<2,>=1.6.3->tensorboard>=1.14->pytorch-lightning==0.7.5->-r requirements.txt (line 3)) (4.7.2)\n",
            "Requirement already satisfied: pyasn1-modules>=0.2.1 in /usr/local/lib/python3.7/dist-packages (from google-auth<2,>=1.6.3->tensorboard>=1.14->pytorch-lightning==0.7.5->-r requirements.txt (line 3)) (0.2.8)\n",
            "Requirement already satisfied: requests-oauthlib>=0.7.0 in /usr/local/lib/python3.7/dist-packages (from google-auth-oauthlib<0.5,>=0.4.1->tensorboard>=1.14->pytorch-lightning==0.7.5->-r requirements.txt (line 3)) (1.3.0)\n",
            "Requirement already satisfied: importlib-metadata in /usr/local/lib/python3.7/dist-packages (from markdown>=2.6.8->tensorboard>=1.14->pytorch-lightning==0.7.5->-r requirements.txt (line 3)) (4.6.1)\n",
            "Requirement already satisfied: pyasn1<0.5.0,>=0.4.6 in /usr/local/lib/python3.7/dist-packages (from pyasn1-modules>=0.2.1->google-auth<2,>=1.6.3->tensorboard>=1.14->pytorch-lightning==0.7.5->-r requirements.txt (line 3)) (0.4.8)\n",
            "Requirement already satisfied: idna<3,>=2.5 in /usr/local/lib/python3.7/dist-packages (from requests<3,>=2.21.0->tensorboard>=1.14->pytorch-lightning==0.7.5->-r requirements.txt (line 3)) (2.10)\n",
            "Requirement already satisfied: urllib3!=1.25.0,!=1.25.1,<1.26,>=1.21.1 in /usr/local/lib/python3.7/dist-packages (from requests<3,>=2.21.0->tensorboard>=1.14->pytorch-lightning==0.7.5->-r requirements.txt (line 3)) (1.24.3)\n",
            "Requirement already satisfied: chardet<4,>=3.0.2 in /usr/local/lib/python3.7/dist-packages (from requests<3,>=2.21.0->tensorboard>=1.14->pytorch-lightning==0.7.5->-r requirements.txt (line 3)) (3.0.4)\n",
            "Requirement already satisfied: certifi>=2017.4.17 in /usr/local/lib/python3.7/dist-packages (from requests<3,>=2.21.0->tensorboard>=1.14->pytorch-lightning==0.7.5->-r requirements.txt (line 3)) (2021.5.30)\n",
            "Requirement already satisfied: oauthlib>=3.0.0 in /usr/local/lib/python3.7/dist-packages (from requests-oauthlib>=0.7.0->google-auth-oauthlib<0.5,>=0.4.1->tensorboard>=1.14->pytorch-lightning==0.7.5->-r requirements.txt (line 3)) (3.1.1)\n",
            "Requirement already satisfied: pandas>=0.20.3 in /usr/local/lib/python3.7/dist-packages (from test-tube->-r requirements.txt (line 4)) (1.1.5)\n",
            "Requirement already satisfied: imageio>=2.3.0 in /usr/local/lib/python3.7/dist-packages (from test-tube->-r requirements.txt (line 4)) (2.4.1)\n",
            "Requirement already satisfied: python-dateutil>=2.7.3 in /usr/local/lib/python3.7/dist-packages (from pandas>=0.20.3->test-tube->-r requirements.txt (line 4)) (2.8.1)\n",
            "Requirement already satisfied: pytz>=2017.2 in /usr/local/lib/python3.7/dist-packages (from pandas>=0.20.3->test-tube->-r requirements.txt (line 4)) (2018.9)\n",
            "Requirement already satisfied: kiwisolver>=1.0.1 in /usr/local/lib/python3.7/dist-packages (from matplotlib->-r requirements.txt (line 7)) (1.3.1)\n",
            "Requirement already satisfied: pyparsing!=2.0.4,!=2.1.2,!=2.1.6,>=2.0.1 in /usr/local/lib/python3.7/dist-packages (from matplotlib->-r requirements.txt (line 7)) (2.4.7)\n",
            "Requirement already satisfied: cycler>=0.10 in /usr/local/lib/python3.7/dist-packages (from matplotlib->-r requirements.txt (line 7)) (0.10.0)\n",
            "Requirement already satisfied: qtconsole in /usr/local/lib/python3.7/dist-packages (from jupyter->-r requirements.txt (line 8)) (5.1.1)\n",
            "Requirement already satisfied: jupyter-console in /usr/local/lib/python3.7/dist-packages (from jupyter->-r requirements.txt (line 8)) (5.2.0)\n",
            "Requirement already satisfied: ipywidgets in /usr/local/lib/python3.7/dist-packages (from jupyter->-r requirements.txt (line 8)) (7.6.3)\n",
            "Requirement already satisfied: ipykernel in /usr/local/lib/python3.7/dist-packages (from jupyter->-r requirements.txt (line 8)) (4.10.1)\n",
            "Requirement already satisfied: notebook in /usr/local/lib/python3.7/dist-packages (from jupyter->-r requirements.txt (line 8)) (5.3.1)\n",
            "Requirement already satisfied: nbconvert in /usr/local/lib/python3.7/dist-packages (from jupyter->-r requirements.txt (line 8)) (5.6.1)\n",
            "Requirement already satisfied: jupyterlab==3.*,>=3.0.0 in /usr/local/lib/python3.7/dist-packages (from open3d->-r requirements.txt (line 18)) (3.0.16)\n",
            "Requirement already satisfied: pygments>=2.7.4 in /usr/local/lib/python3.7/dist-packages (from open3d->-r requirements.txt (line 18)) (2.9.0)\n",
            "Requirement already satisfied: scikit-learn>=0.21 in /usr/local/lib/python3.7/dist-packages (from open3d->-r requirements.txt (line 18)) (0.22.2.post1)\n",
            "Requirement already satisfied: jupyter-packaging~=0.10 in /usr/local/lib/python3.7/dist-packages (from open3d->-r requirements.txt (line 18)) (0.10.4)\n",
            "Requirement already satisfied: addict in /usr/local/lib/python3.7/dist-packages (from open3d->-r requirements.txt (line 18)) (2.4.0)\n",
            "Requirement already satisfied: pyyaml>=5.4.1 in /usr/local/lib/python3.7/dist-packages (from open3d->-r requirements.txt (line 18)) (5.4.1)\n",
            "Requirement already satisfied: jinja2>=2.1 in /usr/local/lib/python3.7/dist-packages (from jupyterlab==3.*,>=3.0.0->open3d->-r requirements.txt (line 18)) (2.11.3)\n",
            "Requirement already satisfied: ipython in /usr/local/lib/python3.7/dist-packages (from jupyterlab==3.*,>=3.0.0->open3d->-r requirements.txt (line 18)) (5.5.0)\n",
            "Requirement already satisfied: packaging in /usr/local/lib/python3.7/dist-packages (from jupyterlab==3.*,>=3.0.0->open3d->-r requirements.txt (line 18)) (21.0)\n",
            "Requirement already satisfied: nbclassic~=0.2 in /usr/local/lib/python3.7/dist-packages (from jupyterlab==3.*,>=3.0.0->open3d->-r requirements.txt (line 18)) (0.3.1)\n",
            "Requirement already satisfied: jupyterlab-server~=2.3 in /usr/local/lib/python3.7/dist-packages (from jupyterlab==3.*,>=3.0.0->open3d->-r requirements.txt (line 18)) (2.6.1)\n",
            "Requirement already satisfied: jupyter-server~=1.4 in /usr/local/lib/python3.7/dist-packages (from jupyterlab==3.*,>=3.0.0->open3d->-r requirements.txt (line 18)) (1.10.0)\n",
            "Requirement already satisfied: jupyter-core in /usr/local/lib/python3.7/dist-packages (from jupyterlab==3.*,>=3.0.0->open3d->-r requirements.txt (line 18)) (4.7.1)\n",
            "Requirement already satisfied: tornado>=6.1.0 in /usr/local/lib/python3.7/dist-packages (from jupyterlab==3.*,>=3.0.0->open3d->-r requirements.txt (line 18)) (6.1)\n",
            "Requirement already satisfied: jupyterlab-widgets>=1.0.0 in /usr/local/lib/python3.7/dist-packages (from ipywidgets->jupyter->-r requirements.txt (line 8)) (1.0.0)\n",
            "Requirement already satisfied: traitlets>=4.3.1 in /usr/local/lib/python3.7/dist-packages (from ipywidgets->jupyter->-r requirements.txt (line 8)) (5.0.5)\n",
            "Requirement already satisfied: nbformat>=4.2.0 in /usr/local/lib/python3.7/dist-packages (from ipywidgets->jupyter->-r requirements.txt (line 8)) (5.1.3)\n",
            "Requirement already satisfied: widgetsnbextension~=3.5.0 in /usr/local/lib/python3.7/dist-packages (from ipywidgets->jupyter->-r requirements.txt (line 8)) (3.5.1)\n",
            "Requirement already satisfied: jupyter-client in /usr/local/lib/python3.7/dist-packages (from ipykernel->jupyter->-r requirements.txt (line 8)) (6.1.12)\n",
            "Requirement already satisfied: prompt-toolkit<2.0.0,>=1.0.4 in /usr/local/lib/python3.7/dist-packages (from ipython->jupyterlab==3.*,>=3.0.0->open3d->-r requirements.txt (line 18)) (1.0.18)\n",
            "Requirement already satisfied: pexpect in /usr/local/lib/python3.7/dist-packages (from ipython->jupyterlab==3.*,>=3.0.0->open3d->-r requirements.txt (line 18)) (4.8.0)\n",
            "Requirement already satisfied: decorator in /usr/local/lib/python3.7/dist-packages (from ipython->jupyterlab==3.*,>=3.0.0->open3d->-r requirements.txt (line 18)) (4.4.2)\n",
            "Requirement already satisfied: pickleshare in /usr/local/lib/python3.7/dist-packages (from ipython->jupyterlab==3.*,>=3.0.0->open3d->-r requirements.txt (line 18)) (0.7.5)\n",
            "Requirement already satisfied: simplegeneric>0.8 in /usr/local/lib/python3.7/dist-packages (from ipython->jupyterlab==3.*,>=3.0.0->open3d->-r requirements.txt (line 18)) (0.8.1)\n",
            "Requirement already satisfied: MarkupSafe>=0.23 in /usr/local/lib/python3.7/dist-packages (from jinja2>=2.1->jupyterlab==3.*,>=3.0.0->open3d->-r requirements.txt (line 18)) (2.0.1)\n",
            "Requirement already satisfied: tomlkit in /usr/local/lib/python3.7/dist-packages (from jupyter-packaging~=0.10->open3d->-r requirements.txt (line 18)) (0.7.2)\n",
            "Requirement already satisfied: deprecation in /usr/local/lib/python3.7/dist-packages (from jupyter-packaging~=0.10->open3d->-r requirements.txt (line 18)) (2.1.0)\n",
            "Requirement already satisfied: ipython-genutils in /usr/local/lib/python3.7/dist-packages (from jupyter-server~=1.4->jupyterlab==3.*,>=3.0.0->open3d->-r requirements.txt (line 18)) (0.2.0)\n",
            "Requirement already satisfied: anyio<4,>=3.1.0 in /usr/local/lib/python3.7/dist-packages (from jupyter-server~=1.4->jupyterlab==3.*,>=3.0.0->open3d->-r requirements.txt (line 18)) (3.3.0)\n",
            "Requirement already satisfied: websocket-client in /usr/local/lib/python3.7/dist-packages (from jupyter-server~=1.4->jupyterlab==3.*,>=3.0.0->open3d->-r requirements.txt (line 18)) (1.1.0)\n",
            "Requirement already satisfied: pyzmq>=17 in /usr/local/lib/python3.7/dist-packages (from jupyter-server~=1.4->jupyterlab==3.*,>=3.0.0->open3d->-r requirements.txt (line 18)) (22.1.0)\n",
            "Requirement already satisfied: terminado>=0.8.3 in /usr/local/lib/python3.7/dist-packages (from jupyter-server~=1.4->jupyterlab==3.*,>=3.0.0->open3d->-r requirements.txt (line 18)) (0.10.1)\n",
            "Requirement already satisfied: prometheus-client in /usr/local/lib/python3.7/dist-packages (from jupyter-server~=1.4->jupyterlab==3.*,>=3.0.0->open3d->-r requirements.txt (line 18)) (0.11.0)\n",
            "Requirement already satisfied: argon2-cffi in /usr/local/lib/python3.7/dist-packages (from jupyter-server~=1.4->jupyterlab==3.*,>=3.0.0->open3d->-r requirements.txt (line 18)) (20.1.0)\n",
            "Requirement already satisfied: Send2Trash in /usr/local/lib/python3.7/dist-packages (from jupyter-server~=1.4->jupyterlab==3.*,>=3.0.0->open3d->-r requirements.txt (line 18)) (1.7.1)\n",
            "Requirement already satisfied: requests-unixsocket in /usr/local/lib/python3.7/dist-packages (from jupyter-server~=1.4->jupyterlab==3.*,>=3.0.0->open3d->-r requirements.txt (line 18)) (0.2.0)\n",
            "Requirement already satisfied: typing-extensions in /usr/local/lib/python3.7/dist-packages (from anyio<4,>=3.1.0->jupyter-server~=1.4->jupyterlab==3.*,>=3.0.0->open3d->-r requirements.txt (line 18)) (3.7.4.3)\n",
            "Requirement already satisfied: sniffio>=1.1 in /usr/local/lib/python3.7/dist-packages (from anyio<4,>=3.1.0->jupyter-server~=1.4->jupyterlab==3.*,>=3.0.0->open3d->-r requirements.txt (line 18)) (1.2.0)\n",
            "Requirement already satisfied: jsonschema>=3.0.1 in /usr/local/lib/python3.7/dist-packages (from jupyterlab-server~=2.3->jupyterlab==3.*,>=3.0.0->open3d->-r requirements.txt (line 18)) (3.2.0)\n",
            "Requirement already satisfied: json5 in /usr/local/lib/python3.7/dist-packages (from jupyterlab-server~=2.3->jupyterlab==3.*,>=3.0.0->open3d->-r requirements.txt (line 18)) (0.9.6)\n",
            "Requirement already satisfied: babel in /usr/local/lib/python3.7/dist-packages (from jupyterlab-server~=2.3->jupyterlab==3.*,>=3.0.0->open3d->-r requirements.txt (line 18)) (2.9.1)\n",
            "Requirement already satisfied: pyrsistent>=0.14.0 in /usr/local/lib/python3.7/dist-packages (from jsonschema>=3.0.1->jupyterlab-server~=2.3->jupyterlab==3.*,>=3.0.0->open3d->-r requirements.txt (line 18)) (0.18.0)\n",
            "Requirement already satisfied: attrs>=17.4.0 in /usr/local/lib/python3.7/dist-packages (from jsonschema>=3.0.1->jupyterlab-server~=2.3->jupyterlab==3.*,>=3.0.0->open3d->-r requirements.txt (line 18)) (21.2.0)\n",
            "Requirement already satisfied: wcwidth in /usr/local/lib/python3.7/dist-packages (from prompt-toolkit<2.0.0,>=1.0.4->ipython->jupyterlab==3.*,>=3.0.0->open3d->-r requirements.txt (line 18)) (0.2.5)\n",
            "Requirement already satisfied: scipy>=0.17.0 in /usr/local/lib/python3.7/dist-packages (from scikit-learn>=0.21->open3d->-r requirements.txt (line 18)) (1.4.1)\n",
            "Requirement already satisfied: joblib>=0.11 in /usr/local/lib/python3.7/dist-packages (from scikit-learn>=0.21->open3d->-r requirements.txt (line 18)) (1.0.1)\n",
            "Requirement already satisfied: ptyprocess in /usr/local/lib/python3.7/dist-packages (from terminado>=0.8.3->jupyter-server~=1.4->jupyterlab==3.*,>=3.0.0->open3d->-r requirements.txt (line 18)) (0.7.0)\n",
            "Requirement already satisfied: cffi>=1.0.0 in /usr/local/lib/python3.7/dist-packages (from argon2-cffi->jupyter-server~=1.4->jupyterlab==3.*,>=3.0.0->open3d->-r requirements.txt (line 18)) (1.14.6)\n",
            "Requirement already satisfied: pycparser in /usr/local/lib/python3.7/dist-packages (from cffi>=1.0.0->argon2-cffi->jupyter-server~=1.4->jupyterlab==3.*,>=3.0.0->open3d->-r requirements.txt (line 18)) (2.20)\n",
            "Requirement already satisfied: zipp>=0.5 in /usr/local/lib/python3.7/dist-packages (from importlib-metadata->markdown>=2.6.8->tensorboard>=1.14->pytorch-lightning==0.7.5->-r requirements.txt (line 3)) (3.5.0)\n",
            "Requirement already satisfied: bleach in /usr/local/lib/python3.7/dist-packages (from nbconvert->jupyter->-r requirements.txt (line 8)) (3.3.0)\n",
            "Requirement already satisfied: defusedxml in /usr/local/lib/python3.7/dist-packages (from nbconvert->jupyter->-r requirements.txt (line 8)) (0.7.1)\n",
            "Requirement already satisfied: testpath in /usr/local/lib/python3.7/dist-packages (from nbconvert->jupyter->-r requirements.txt (line 8)) (0.5.0)\n",
            "Requirement already satisfied: entrypoints>=0.2.2 in /usr/local/lib/python3.7/dist-packages (from nbconvert->jupyter->-r requirements.txt (line 8)) (0.3)\n",
            "Requirement already satisfied: pandocfilters>=1.4.1 in /usr/local/lib/python3.7/dist-packages (from nbconvert->jupyter->-r requirements.txt (line 8)) (1.4.3)\n",
            "Requirement already satisfied: mistune<2,>=0.8.1 in /usr/local/lib/python3.7/dist-packages (from nbconvert->jupyter->-r requirements.txt (line 8)) (0.8.4)\n",
            "Requirement already satisfied: webencodings in /usr/local/lib/python3.7/dist-packages (from bleach->nbconvert->jupyter->-r requirements.txt (line 8)) (0.5.1)\n",
            "Requirement already satisfied: qtpy in /usr/local/lib/python3.7/dist-packages (from qtconsole->jupyter->-r requirements.txt (line 8)) (1.9.0)\n",
            "/content/nerf_pl/torchsearchsorted\n",
            "Processing /content/nerf_pl/torchsearchsorted\n",
            "\u001b[33m  DEPRECATION: A future pip version will change local packages to be built in-place without first copying to a temporary directory. We recommend you use --use-feature=in-tree-build to test your packages with this new behavior before it becomes the default.\n",
            "   pip 21.3 will remove support for this functionality. You can find discussion regarding this at https://github.com/pypa/pip/issues/7555.\u001b[0m\n",
            "Building wheels for collected packages: torchsearchsorted\n",
            "  Building wheel for torchsearchsorted (setup.py) ... \u001b[?25l\u001b[?25hdone\n",
            "  Created wheel for torchsearchsorted: filename=torchsearchsorted-1.1-cp37-cp37m-linux_x86_64.whl size=3208381 sha256=ec7536363620a4e0ed427608c145a73a6a951ab031e9a83c051771c291d3947d\n",
            "  Stored in directory: /tmp/pip-ephem-wheel-cache-0vloc2i1/wheels/f0/75/06/3b90bb6a54c933890a1ab2be264db76042598a2cd1aa71a29b\n",
            "Successfully built torchsearchsorted\n",
            "Installing collected packages: torchsearchsorted\n",
            "  Attempting uninstall: torchsearchsorted\n",
            "    Found existing installation: torchsearchsorted 1.1\n",
            "    Uninstalling torchsearchsorted-1.1:\n",
            "      Successfully uninstalled torchsearchsorted-1.1\n",
            "Successfully installed torchsearchsorted-1.1\n"
          ],
          "name": "stdout"
        }
      ]
    },
    {
      "cell_type": "markdown",
      "metadata": {
        "id": "jWJIcY5_t2Cl"
      },
      "source": [
        "# Mount your google drive (to access data)"
      ]
    },
    {
      "cell_type": "code",
      "metadata": {
        "colab": {
          "base_uri": "https://localhost:8080/"
        },
        "id": "q7qlz9AlqpjE",
        "outputId": "9cccaa1f-cb87-4b00-a867-c51873e50116"
      },
      "source": [
        "from google.colab import drive\n",
        "drive.mount('/content/drive/', force_remount=True)"
      ],
      "execution_count": null,
      "outputs": [
        {
          "output_type": "stream",
          "text": [
            "Mounted at /content/drive/\n"
          ],
          "name": "stdout"
        }
      ]
    },
    {
      "cell_type": "markdown",
      "metadata": {
        "id": "lC4P161it9bb"
      },
      "source": [
        "# Train! (depending on number of epochs, takes about 5~8 hours)\n",
        "\n",
        "### model weights are saved to `ckpts/$EXP`\n",
        "### training logs (loss/PSNR evolution) are saved to `logs/$EXP`"
      ]
    },
    {
      "cell_type": "markdown",
      "metadata": {
        "id": "sR-o1P3cyiKS"
      },
      "source": [
        "## Blender scene"
      ]
    },
    {
      "cell_type": "code",
      "metadata": {
        "colab": {
          "background_save": true,
          "base_uri": "https://localhost:8080/"
        },
        "id": "d35_YDDErL6T",
        "outputId": "d7d587fa-58f2-4f7a-c02d-ce825ef02cec"
      },
      "source": [
        "%cd /content/nerf_pl\n",
        "\n",
        "import os\n",
        "os.environ['ROOT_DIR'] = \"/content/drive/My Drive/nerf/dragonfly_gt\"\n",
        "os.environ['EXP'] = \"blender\"\n",
        "!python train.py \\\n",
        "   --dataset_name blender \\\n",
        "   --root_dir \"$ROOT_DIR\" \\\n",
        "   --N_importance 64 --img_wh 360 360 --noise_std 0 \\\n",
        "   --num_epochs 16 --batch_size 1024 \\\n",
        "   --optimizer ranger  --lr 5e-4 \\\n",
        "   --lr_scheduler steplr --decay_step 2 4 8 --decay_gamma 0.5 \\\n",
        "   --exp_name $EXP"
      ],
      "execution_count": null,
      "outputs": [
        {
          "output_type": "stream",
          "text": [
            "/content/nerf_pl\n",
            "INFO:lightning:GPU available: True, used: True\n",
            "INFO:lightning:CUDA_VISIBLE_DEVICES: [0]\n",
            "2021-07-23 05:16:23.395883: I tensorflow/stream_executor/platform/default/dso_loader.cc:53] Successfully opened dynamic library libcudart.so.11.0\n",
            "Epoch 1: 100% 18985/18993 [58:37<00:01,  5.40it/s, loss=0.021, train_psnr=20.7, v_num=0]\n",
            "Validating: 0it [00:00, ?it/s]\u001b[A\n",
            "Epoch 1: 100% 18986/18993 [58:44<00:01,  5.39it/s, loss=0.021, train_psnr=20.7, v_num=0]\n",
            "Epoch 1: 100% 18987/18993 [58:51<00:01,  5.38it/s, loss=0.021, train_psnr=20.7, v_num=0]\n",
            "Epoch 1: 100% 18988/18993 [58:58<00:00,  5.37it/s, loss=0.021, train_psnr=20.7, v_num=0]\n",
            "Epoch 1: 100% 18989/18993 [59:05<00:00,  5.36it/s, loss=0.021, train_psnr=20.7, v_num=0]\n",
            "Epoch 1: 100% 18990/18993 [59:11<00:00,  5.35it/s, loss=0.021, train_psnr=20.7, v_num=0]\n",
            "Epoch 1: 100% 18991/18993 [59:18<00:00,  5.34it/s, loss=0.021, train_psnr=20.7, v_num=0]\n",
            "Epoch 1: 100% 18992/18993 [59:25<00:00,  5.33it/s, loss=0.021, train_psnr=20.7, v_num=0]\n",
            "Epoch 1: 100% 18993/18993 [59:32<00:00,  5.32it/s, loss=0.021, train_psnr=20.7, v_num=0, val_loss=0.0194, val_psnr=20.3]\n",
            "Epoch 2: 100% 18985/18993 [59:08<00:01,  5.35it/s, loss=0.021, train_psnr=23.2, v_num=0, val_loss=0.0194, val_psnr=20.3]\n",
            "Validating: 0it [00:00, ?it/s]\u001b[A\n",
            "Epoch 2: 100% 18986/18993 [59:15<00:01,  5.34it/s, loss=0.021, train_psnr=23.2, v_num=0, val_loss=0.0194, val_psnr=20.3]\n",
            "Epoch 2: 100% 18987/18993 [59:22<00:01,  5.33it/s, loss=0.021, train_psnr=23.2, v_num=0, val_loss=0.0194, val_psnr=20.3]\n",
            "Epoch 2: 100% 18988/18993 [59:29<00:00,  5.32it/s, loss=0.021, train_psnr=23.2, v_num=0, val_loss=0.0194, val_psnr=20.3]\n",
            "Epoch 2: 100% 18989/18993 [59:36<00:00,  5.31it/s, loss=0.021, train_psnr=23.2, v_num=0, val_loss=0.0194, val_psnr=20.3]\n",
            "Epoch 2: 100% 18990/18993 [59:43<00:00,  5.30it/s, loss=0.021, train_psnr=23.2, v_num=0, val_loss=0.0194, val_psnr=20.3]\n",
            "Epoch 2: 100% 18991/18993 [59:49<00:00,  5.29it/s, loss=0.021, train_psnr=23.2, v_num=0, val_loss=0.0194, val_psnr=20.3]\n",
            "Epoch 2: 100% 18992/18993 [59:56<00:00,  5.28it/s, loss=0.021, train_psnr=23.2, v_num=0, val_loss=0.0194, val_psnr=20.3]\n",
            "Epoch 2: 100% 18993/18993 [1:00:03<00:00,  5.27it/s, loss=0.021, train_psnr=23.2, v_num=0, val_loss=0.0194, val_psnr=20.3]\n",
            "Epoch 3: 100% 18985/18993 [59:42<00:01,  5.30it/s, loss=0.022, train_psnr=20.3, v_num=0, val_loss=0.0194, val_psnr=20.3]\n",
            "Validating: 0it [00:00, ?it/s]\u001b[A\n",
            "Epoch 3: 100% 18986/18993 [59:49<00:01,  5.29it/s, loss=0.022, train_psnr=20.3, v_num=0, val_loss=0.0194, val_psnr=20.3]\n",
            "Epoch 3: 100% 18987/18993 [59:56<00:01,  5.28it/s, loss=0.022, train_psnr=20.3, v_num=0, val_loss=0.0194, val_psnr=20.3]\n",
            "Epoch 3: 100% 18988/18993 [1:00:03<00:00,  5.27it/s, loss=0.022, train_psnr=20.3, v_num=0, val_loss=0.0194, val_psnr=20.3]\n",
            "Epoch 3: 100% 18989/18993 [1:00:10<00:00,  5.26it/s, loss=0.022, train_psnr=20.3, v_num=0, val_loss=0.0194, val_psnr=20.3]\n",
            "Epoch 3: 100% 18990/18993 [1:00:16<00:00,  5.25it/s, loss=0.022, train_psnr=20.3, v_num=0, val_loss=0.0194, val_psnr=20.3]\n",
            "Epoch 3: 100% 18991/18993 [1:00:23<00:00,  5.24it/s, loss=0.022, train_psnr=20.3, v_num=0, val_loss=0.0194, val_psnr=20.3]\n",
            "Epoch 3: 100% 18992/18993 [1:00:30<00:00,  5.23it/s, loss=0.022, train_psnr=20.3, v_num=0, val_loss=0.0194, val_psnr=20.3]\n",
            "Epoch 3: 100% 18993/18993 [1:00:37<00:00,  5.22it/s, loss=0.022, train_psnr=20.3, v_num=0, val_loss=0.0194, val_psnr=20.3]\n",
            "Epoch 4: 100% 18985/18993 [1:00:16<00:01,  5.25it/s, loss=0.022, train_psnr=22, v_num=0, val_loss=0.0194, val_psnr=20.3]  \n",
            "Validating: 0it [00:00, ?it/s]\u001b[A\n",
            "Epoch 4: 100% 18986/18993 [1:00:24<00:01,  5.24it/s, loss=0.022, train_psnr=22, v_num=0, val_loss=0.0194, val_psnr=20.3]\n",
            "Epoch 4: 100% 18987/18993 [1:00:30<00:01,  5.23it/s, loss=0.022, train_psnr=22, v_num=0, val_loss=0.0194, val_psnr=20.3]\n",
            "Epoch 4: 100% 18988/18993 [1:00:37<00:00,  5.22it/s, loss=0.022, train_psnr=22, v_num=0, val_loss=0.0194, val_psnr=20.3]\n",
            "Epoch 4: 100% 18989/18993 [1:00:44<00:00,  5.21it/s, loss=0.022, train_psnr=22, v_num=0, val_loss=0.0194, val_psnr=20.3]\n",
            "Epoch 4: 100% 18990/18993 [1:00:51<00:00,  5.20it/s, loss=0.022, train_psnr=22, v_num=0, val_loss=0.0194, val_psnr=20.3]\n",
            "Epoch 4: 100% 18991/18993 [1:00:58<00:00,  5.19it/s, loss=0.022, train_psnr=22, v_num=0, val_loss=0.0194, val_psnr=20.3]\n",
            "Epoch 4: 100% 18992/18993 [1:01:04<00:00,  5.18it/s, loss=0.022, train_psnr=22, v_num=0, val_loss=0.0194, val_psnr=20.3]\n",
            "Epoch 4: 100% 18993/18993 [1:01:11<00:00,  5.17it/s, loss=0.022, train_psnr=22, v_num=0, val_loss=0.0194, val_psnr=20.3]\n",
            "Epoch 5: 100% 18985/18993 [1:00:58<00:01,  5.19it/s, loss=0.022, train_psnr=22.5, v_num=0, val_loss=0.0194, val_psnr=20.3]\n",
            "Validating: 0it [00:00, ?it/s]\u001b[A\n",
            "Epoch 5: 100% 18986/18993 [1:01:05<00:01,  5.18it/s, loss=0.022, train_psnr=22.5, v_num=0, val_loss=0.0194, val_psnr=20.3]\n",
            "Epoch 5: 100% 18987/18993 [1:01:12<00:01,  5.17it/s, loss=0.022, train_psnr=22.5, v_num=0, val_loss=0.0194, val_psnr=20.3]\n",
            "Epoch 5: 100% 18988/18993 [1:01:19<00:00,  5.16it/s, loss=0.022, train_psnr=22.5, v_num=0, val_loss=0.0194, val_psnr=20.3]\n",
            "Epoch 5: 100% 18989/18993 [1:01:26<00:00,  5.15it/s, loss=0.022, train_psnr=22.5, v_num=0, val_loss=0.0194, val_psnr=20.3]\n",
            "Epoch 5: 100% 18990/18993 [1:01:33<00:00,  5.14it/s, loss=0.022, train_psnr=22.5, v_num=0, val_loss=0.0194, val_psnr=20.3]\n",
            "Epoch 5: 100% 18991/18993 [1:01:39<00:00,  5.13it/s, loss=0.022, train_psnr=22.5, v_num=0, val_loss=0.0194, val_psnr=20.3]\n",
            "Epoch 5: 100% 18992/18993 [1:01:46<00:00,  5.12it/s, loss=0.022, train_psnr=22.5, v_num=0, val_loss=0.0194, val_psnr=20.3]\n",
            "Epoch 5: 100% 18993/18993 [1:01:53<00:00,  5.11it/s, loss=0.022, train_psnr=22.5, v_num=0, val_loss=0.0194, val_psnr=20.3]\n",
            "Epoch 6: 100% 18985/18993 [1:01:33<00:01,  5.14it/s, loss=0.022, train_psnr=17.3, v_num=0, val_loss=0.0194, val_psnr=20.3]\n",
            "Validating: 0it [00:00, ?it/s]\u001b[A\n",
            "Epoch 6: 100% 18986/18993 [1:01:41<00:01,  5.13it/s, loss=0.022, train_psnr=17.3, v_num=0, val_loss=0.0194, val_psnr=20.3]\n",
            "Epoch 6: 100% 18987/18993 [1:01:48<00:01,  5.12it/s, loss=0.022, train_psnr=17.3, v_num=0, val_loss=0.0194, val_psnr=20.3]\n",
            "Epoch 6: 100% 18988/18993 [1:01:54<00:00,  5.11it/s, loss=0.022, train_psnr=17.3, v_num=0, val_loss=0.0194, val_psnr=20.3]\n",
            "Epoch 6: 100% 18989/18993 [1:02:01<00:00,  5.10it/s, loss=0.022, train_psnr=17.3, v_num=0, val_loss=0.0194, val_psnr=20.3]\n",
            "Epoch 6: 100% 18990/18993 [1:02:08<00:00,  5.09it/s, loss=0.022, train_psnr=17.3, v_num=0, val_loss=0.0194, val_psnr=20.3]\n",
            "Epoch 6: 100% 18991/18993 [1:02:15<00:00,  5.08it/s, loss=0.022, train_psnr=17.3, v_num=0, val_loss=0.0194, val_psnr=20.3]\n",
            "Epoch 6: 100% 18992/18993 [1:02:22<00:00,  5.08it/s, loss=0.022, train_psnr=17.3, v_num=0, val_loss=0.0194, val_psnr=20.3]\n",
            "Epoch 6: 100% 18993/18993 [1:02:29<00:00,  5.07it/s, loss=0.022, train_psnr=17.3, v_num=0, val_loss=0.0194, val_psnr=20.3]\n",
            "Epoch 7: 100% 18985/18993 [1:02:09<00:01,  5.09it/s, loss=0.021, train_psnr=18.1, v_num=0, val_loss=0.0194, val_psnr=20.3]\n",
            "Validating: 0it [00:00, ?it/s]\u001b[A\n",
            "Epoch 7: 100% 18986/18993 [1:02:16<00:01,  5.08it/s, loss=0.021, train_psnr=18.1, v_num=0, val_loss=0.0194, val_psnr=20.3]\n",
            "Epoch 7: 100% 18987/18993 [1:02:23<00:01,  5.07it/s, loss=0.021, train_psnr=18.1, v_num=0, val_loss=0.0194, val_psnr=20.3]\n",
            "Epoch 7: 100% 18988/18993 [1:02:30<00:00,  5.06it/s, loss=0.021, train_psnr=18.1, v_num=0, val_loss=0.0194, val_psnr=20.3]\n",
            "Epoch 7: 100% 18989/18993 [1:02:37<00:00,  5.05it/s, loss=0.021, train_psnr=18.1, v_num=0, val_loss=0.0194, val_psnr=20.3]\n",
            "Epoch 7: 100% 18990/18993 [1:02:44<00:00,  5.05it/s, loss=0.021, train_psnr=18.1, v_num=0, val_loss=0.0194, val_psnr=20.3]\n",
            "Epoch 7: 100% 18991/18993 [1:02:50<00:00,  5.04it/s, loss=0.021, train_psnr=18.1, v_num=0, val_loss=0.0194, val_psnr=20.3]\n",
            "Epoch 7: 100% 18992/18993 [1:02:57<00:00,  5.03it/s, loss=0.021, train_psnr=18.1, v_num=0, val_loss=0.0194, val_psnr=20.3]\n",
            "Epoch 7: 100% 18993/18993 [1:03:04<00:00,  5.02it/s, loss=0.021, train_psnr=18.1, v_num=0, val_loss=0.0194, val_psnr=20.3]\n",
            "Epoch 8: 100% 18985/18993 [1:02:52<00:01,  5.03it/s, loss=0.021, train_psnr=19.2, v_num=0, val_loss=0.0194, val_psnr=20.3]\n",
            "Validating: 0it [00:00, ?it/s]\u001b[A\n",
            "Epoch 8: 100% 18986/18993 [1:02:59<00:01,  5.02it/s, loss=0.021, train_psnr=19.2, v_num=0, val_loss=0.0194, val_psnr=20.3]\n",
            "Epoch 8: 100% 18987/18993 [1:03:06<00:01,  5.01it/s, loss=0.021, train_psnr=19.2, v_num=0, val_loss=0.0194, val_psnr=20.3]\n",
            "Epoch 8: 100% 18988/18993 [1:03:13<00:00,  5.01it/s, loss=0.021, train_psnr=19.2, v_num=0, val_loss=0.0194, val_psnr=20.3]\n",
            "Epoch 8: 100% 18989/18993 [1:03:19<00:00,  5.00it/s, loss=0.021, train_psnr=19.2, v_num=0, val_loss=0.0194, val_psnr=20.3]\n",
            "Epoch 8: 100% 18990/18993 [1:03:26<00:00,  4.99it/s, loss=0.021, train_psnr=19.2, v_num=0, val_loss=0.0194, val_psnr=20.3]\n",
            "Epoch 8: 100% 18991/18993 [1:03:33<00:00,  4.98it/s, loss=0.021, train_psnr=19.2, v_num=0, val_loss=0.0194, val_psnr=20.3]\n",
            "Epoch 8: 100% 18992/18993 [1:03:40<00:00,  4.97it/s, loss=0.021, train_psnr=19.2, v_num=0, val_loss=0.0194, val_psnr=20.3]\n",
            "Epoch 8: 100% 18993/18993 [1:03:47<00:00,  4.96it/s, loss=0.021, train_psnr=19.2, v_num=0, val_loss=0.0194, val_psnr=20.3]\n",
            "Epoch 9: 100% 18985/18993 [1:03:20<00:01,  4.99it/s, loss=0.023, train_psnr=17.2, v_num=0, val_loss=0.0194, val_psnr=20.3]\n",
            "Validating: 0it [00:00, ?it/s]\u001b[A\n",
            "Epoch 9: 100% 18986/18993 [1:03:28<00:01,  4.99it/s, loss=0.023, train_psnr=17.2, v_num=0, val_loss=0.0194, val_psnr=20.3]\n",
            "Epoch 9: 100% 18987/18993 [1:03:35<00:01,  4.98it/s, loss=0.023, train_psnr=17.2, v_num=0, val_loss=0.0194, val_psnr=20.3]\n",
            "Epoch 9: 100% 18988/18993 [1:03:41<00:01,  4.97it/s, loss=0.023, train_psnr=17.2, v_num=0, val_loss=0.0194, val_psnr=20.3]\n",
            "Epoch 9: 100% 18989/18993 [1:03:48<00:00,  4.96it/s, loss=0.023, train_psnr=17.2, v_num=0, val_loss=0.0194, val_psnr=20.3]\n",
            "Epoch 9: 100% 18990/18993 [1:03:55<00:00,  4.95it/s, loss=0.023, train_psnr=17.2, v_num=0, val_loss=0.0194, val_psnr=20.3]\n",
            "Epoch 9: 100% 18991/18993 [1:04:02<00:00,  4.94it/s, loss=0.023, train_psnr=17.2, v_num=0, val_loss=0.0194, val_psnr=20.3]\n",
            "Epoch 9: 100% 18992/18993 [1:04:09<00:00,  4.93it/s, loss=0.023, train_psnr=17.2, v_num=0, val_loss=0.0194, val_psnr=20.3]\n",
            "Epoch 9: 100% 18993/18993 [1:04:16<00:00,  4.93it/s, loss=0.023, train_psnr=17.2, v_num=0, val_loss=0.0194, val_psnr=20.3]\n",
            "Epoch 10: 100% 18985/18993 [1:04:06<00:01,  4.94it/s, loss=0.020, train_psnr=20.1, v_num=0, val_loss=0.0194, val_psnr=20.3]\n",
            "Validating: 0it [00:00, ?it/s]\u001b[A\n",
            "Epoch 10: 100% 18986/18993 [1:04:13<00:01,  4.93it/s, loss=0.020, train_psnr=20.1, v_num=0, val_loss=0.0194, val_psnr=20.3]\n",
            "Epoch 10: 100% 18987/18993 [1:04:20<00:01,  4.92it/s, loss=0.020, train_psnr=20.1, v_num=0, val_loss=0.0194, val_psnr=20.3]\n",
            "Epoch 10: 100% 18988/18993 [1:04:27<00:01,  4.91it/s, loss=0.020, train_psnr=20.1, v_num=0, val_loss=0.0194, val_psnr=20.3]\n",
            "Epoch 10: 100% 18989/18993 [1:04:34<00:00,  4.90it/s, loss=0.020, train_psnr=20.1, v_num=0, val_loss=0.0194, val_psnr=20.3]\n",
            "Epoch 10: 100% 18990/18993 [1:04:40<00:00,  4.89it/s, loss=0.020, train_psnr=20.1, v_num=0, val_loss=0.0194, val_psnr=20.3]\n",
            "Epoch 10: 100% 18991/18993 [1:04:47<00:00,  4.88it/s, loss=0.020, train_psnr=20.1, v_num=0, val_loss=0.0194, val_psnr=20.3]\n",
            "Epoch 10: 100% 18992/18993 [1:04:54<00:00,  4.88it/s, loss=0.020, train_psnr=20.1, v_num=0, val_loss=0.0194, val_psnr=20.3]\n",
            "Epoch 10: 100% 18993/18993 [1:05:01<00:00,  4.87it/s, loss=0.020, train_psnr=20.1, v_num=0, val_loss=0.0194, val_psnr=20.3]\n",
            "Epoch 11:  56% 10678/18993 [36:16<28:14,  4.91it/s, loss=0.021, train_psnr=19.3, v_num=0, val_loss=0.0194, val_psnr=20.3]"
          ],
          "name": "stdout"
        }
      ]
    },
    {
      "cell_type": "markdown",
      "metadata": {
        "id": "6jk8eHzM91td"
      },
      "source": [
        "## 360 inward-facing scene"
      ]
    },
    {
      "cell_type": "code",
      "metadata": {
        "colab": {
          "base_uri": "https://localhost:8080/"
        },
        "id": "yHSCPvKGsevy",
        "outputId": "228357e2-ad65-494e-f380-d7ca6661be5e"
      },
      "source": [
        "%cd /content/nerf_pl\n",
        "\n",
        "import os\n",
        "# set training configurations here\n",
        "os.environ['ROOT_DIR'] = \"/content/drive/My Drive/nerf/cc_meshroom\"\n",
        "                         # directory containing the data\n",
        "os.environ['IMG_W'] = \"180\" # image width (do not set too large)\n",
        "os.environ['IMG_H'] = \"180\" # image height (do not set too large)\n",
        "os.environ['NUM_EPOCHS'] = \"20\" # number of epochs to train (depending on how many images there are,\n",
        "                                # 20~30 might be enough)\n",
        "os.environ['EXP'] = \"exp\" # name of the experience (arbitrary)\n",
        "\n",
        "!python train.py \\\n",
        "   --dataset_name llff \\\n",
        "   --root_dir \"$ROOT_DIR\" \\\n",
        "   --N_importance 64 --img_wh $IMG_W $IMG_H \\\n",
        "   --spheric --use_disp \\\n",
        "   --num_epochs $NUM_EPOCHS --batch_size 1024 \\\n",
        "   --optimizer ranger --lr 5e-4 \\\n",
        "   --lr_scheduler cosine \\\n",
        "   --exp_name $EXP"
      ],
      "execution_count": null,
      "outputs": [
        {
          "output_type": "stream",
          "text": [
            "/content/nerf_pl\n",
            "INFO:lightning:GPU available: True, used: True\n",
            "INFO:lightning:CUDA_VISIBLE_DEVICES: [0]\n",
            "val image is /content/drive/My Drive/nerf/cc_meshroom/images/x=3_y=15.jpg\n",
            "2021-07-15 14:35:21.557024: I tensorflow/stream_executor/platform/default/dso_loader.cc:53] Successfully opened dynamic library libcudart.so.11.0\n",
            "Epoch 1: 100% 5791/5792 [09:54<00:00,  9.74it/s, loss=0.022, train_psnr=19.8, v_num=0]\n",
            "Validating: 0it [00:00, ?it/s]\u001b[A\n",
            "Epoch 1: 100% 5792/5792 [09:56<00:00,  9.72it/s, loss=0.022, train_psnr=19.8, v_num=0, val_loss=0.0697, val_psnr=14.5]\n",
            "Epoch 2: 100% 5791/5792 [10:00<00:00,  9.65it/s, loss=0.016, train_psnr=21.5, v_num=0, val_loss=0.0697, val_psnr=14.5]\n",
            "Validating: 0it [00:00, ?it/s]\u001b[A\n",
            "Epoch 2: 100% 5792/5792 [10:01<00:00,  9.63it/s, loss=0.016, train_psnr=21.5, v_num=0, val_loss=0.0688, val_psnr=14.6]\n",
            "Epoch 3: 100% 5791/5792 [10:05<00:00,  9.57it/s, loss=0.014, train_psnr=23.3, v_num=0, val_loss=0.0688, val_psnr=14.6]\n",
            "Validating: 0it [00:00, ?it/s]\u001b[A\n",
            "Epoch 3: 100% 5792/5792 [10:06<00:00,  9.55it/s, loss=0.014, train_psnr=23.3, v_num=0, val_loss=0.0705, val_psnr=14.6]\n",
            "Epoch 4: 100% 5791/5792 [10:07<00:00,  9.53it/s, loss=0.013, train_psnr=22.9, v_num=0, val_loss=0.0705, val_psnr=14.6]\n",
            "Validating: 0it [00:00, ?it/s]\u001b[A\n",
            "Epoch 4: 100% 5792/5792 [10:08<00:00,  9.51it/s, loss=0.013, train_psnr=22.9, v_num=0, val_loss=0.0711, val_psnr=14.6]\n",
            "Epoch 5: 100% 5791/5792 [10:12<00:00,  9.46it/s, loss=0.012, train_psnr=23.8, v_num=0, val_loss=0.0711, val_psnr=14.6]\n",
            "Validating: 0it [00:00, ?it/s]\u001b[A\n",
            "Epoch 5: 100% 5792/5792 [10:13<00:00,  9.44it/s, loss=0.012, train_psnr=23.8, v_num=0, val_loss=0.0754, val_psnr=14.5]\n",
            "Epoch 6: 100% 5791/5792 [10:15<00:00,  9.41it/s, loss=0.011, train_psnr=22.5, v_num=0, val_loss=0.0754, val_psnr=14.5]\n",
            "Validating: 0it [00:00, ?it/s]\u001b[A\n",
            "Epoch 6: 100% 5792/5792 [10:16<00:00,  9.40it/s, loss=0.011, train_psnr=22.5, v_num=0, val_loss=0.072, val_psnr=14.6] \n",
            "Epoch 7: 100% 5791/5792 [10:18<00:00,  9.36it/s, loss=0.010, train_psnr=23.7, v_num=0, val_loss=0.072, val_psnr=14.6]\n",
            "Validating: 0it [00:00, ?it/s]\u001b[A\n",
            "Epoch 7: 100% 5792/5792 [10:20<00:00,  9.34it/s, loss=0.010, train_psnr=23.7, v_num=0, val_loss=0.0716, val_psnr=14.6]\n",
            "Epoch 8: 100% 5791/5792 [10:22<00:00,  9.30it/s, loss=0.010, train_psnr=20.7, v_num=0, val_loss=0.0716, val_psnr=14.6]\n",
            "Validating: 0it [00:00, ?it/s]\u001b[A\n",
            "Epoch 8: 100% 5792/5792 [10:24<00:00,  9.28it/s, loss=0.010, train_psnr=20.7, v_num=0, val_loss=0.0731, val_psnr=14.6]\n",
            "Epoch 9: 100% 5791/5792 [10:26<00:00,  9.24it/s, loss=0.009, train_psnr=22.9, v_num=0, val_loss=0.0731, val_psnr=14.6]\n",
            "Validating: 0it [00:00, ?it/s]\u001b[A\n",
            "Epoch 9: 100% 5792/5792 [10:27<00:00,  9.22it/s, loss=0.009, train_psnr=22.9, v_num=0, val_loss=0.0744, val_psnr=14.5]\n",
            "Epoch 10: 100% 5791/5792 [10:29<00:00,  9.20it/s, loss=0.009, train_psnr=23.9, v_num=0, val_loss=0.0744, val_psnr=14.5]\n",
            "Validating: 0it [00:00, ?it/s]\u001b[A\n",
            "Epoch 10: 100% 5792/5792 [10:30<00:00,  9.18it/s, loss=0.009, train_psnr=23.9, v_num=0, val_loss=0.0754, val_psnr=14.4]\n",
            "Epoch 11: 100% 5791/5792 [10:32<00:00,  9.15it/s, loss=0.008, train_psnr=21.9, v_num=0, val_loss=0.0754, val_psnr=14.4]\n",
            "Validating: 0it [00:00, ?it/s]\u001b[A\n",
            "Epoch 11: 100% 5792/5792 [10:34<00:00,  9.13it/s, loss=0.008, train_psnr=21.9, v_num=0, val_loss=0.0761, val_psnr=14.4]\n",
            "Epoch 12: 100% 5791/5792 [10:35<00:00,  9.11it/s, loss=0.007, train_psnr=21.4, v_num=0, val_loss=0.0761, val_psnr=14.4]\n",
            "Validating: 0it [00:00, ?it/s]\u001b[A\n",
            "Epoch 12: 100% 5792/5792 [10:36<00:00,  9.09it/s, loss=0.007, train_psnr=21.4, v_num=0, val_loss=0.0784, val_psnr=14.2]\n",
            "Epoch 13: 100% 5791/5792 [10:40<00:00,  9.04it/s, loss=0.007, train_psnr=27.8, v_num=0, val_loss=0.0784, val_psnr=14.2]\n",
            "Validating: 0it [00:00, ?it/s]\u001b[A\n",
            "Epoch 13: 100% 5792/5792 [10:42<00:00,  9.02it/s, loss=0.007, train_psnr=27.8, v_num=0, val_loss=0.0788, val_psnr=14.1]\n",
            "Epoch 14: 100% 5791/5792 [10:45<00:00,  8.97it/s, loss=0.007, train_psnr=22.1, v_num=0, val_loss=0.0788, val_psnr=14.1]\n",
            "Validating: 0it [00:00, ?it/s]\u001b[A\n",
            "Epoch 14: 100% 5792/5792 [10:46<00:00,  8.95it/s, loss=0.007, train_psnr=22.1, v_num=0, val_loss=0.0782, val_psnr=14.2]\n",
            "Epoch 15: 100% 5791/5792 [10:49<00:00,  8.92it/s, loss=0.006, train_psnr=25, v_num=0, val_loss=0.0782, val_psnr=14.2]  \n",
            "Validating: 0it [00:00, ?it/s]\u001b[A\n",
            "Epoch 15: 100% 5792/5792 [10:50<00:00,  8.90it/s, loss=0.006, train_psnr=25, v_num=0, val_loss=0.078, val_psnr=14.3] \n",
            "Epoch 16: 100% 5791/5792 [10:52<00:00,  8.88it/s, loss=0.006, train_psnr=27.1, v_num=0, val_loss=0.078, val_psnr=14.3]\n",
            "Validating: 0it [00:00, ?it/s]\u001b[A\n",
            "Epoch 16: 100% 5792/5792 [10:53<00:00,  8.86it/s, loss=0.006, train_psnr=27.1, v_num=0, val_loss=0.0779, val_psnr=14.3]\n",
            "Epoch 17: 100% 5791/5792 [10:54<00:00,  8.85it/s, loss=0.005, train_psnr=29.5, v_num=0, val_loss=0.0779, val_psnr=14.3]\n",
            "Validating: 0it [00:00, ?it/s]\u001b[A\n",
            "Epoch 17: 100% 5792/5792 [10:56<00:00,  8.83it/s, loss=0.005, train_psnr=29.5, v_num=0, val_loss=0.0777, val_psnr=14.2]\n",
            "Epoch 18: 100% 5791/5792 [10:57<00:00,  8.80it/s, loss=0.005, train_psnr=28.3, v_num=0, val_loss=0.0777, val_psnr=14.2]\n",
            "Validating: 0it [00:00, ?it/s]\u001b[A\n",
            "Epoch 18: 100% 5792/5792 [10:59<00:00,  8.78it/s, loss=0.005, train_psnr=28.3, v_num=0, val_loss=0.079, val_psnr=14.2] \n",
            "Epoch 19: 100% 5791/5792 [11:00<00:00,  8.76it/s, loss=0.005, train_psnr=25.1, v_num=0, val_loss=0.079, val_psnr=14.2]\n",
            "Validating: 0it [00:00, ?it/s]\u001b[A\n",
            "Epoch 19: 100% 5792/5792 [11:02<00:00,  8.74it/s, loss=0.005, train_psnr=25.1, v_num=0, val_loss=0.0786, val_psnr=14.2]\n",
            "Epoch 20: 100% 5791/5792 [11:05<00:00,  8.70it/s, loss=0.005, train_psnr=29.6, v_num=0, val_loss=0.0786, val_psnr=14.2]\n",
            "Validating: 0it [00:00, ?it/s]\u001b[A\n",
            "Epoch 20: 100% 5792/5792 [11:07<00:00,  8.68it/s, loss=0.005, train_psnr=29.6, v_num=0, val_loss=0.0788, val_psnr=14.2]\n",
            "Epoch 20: 100% 5792/5792 [11:07<00:00,  8.68it/s, loss=0.005, train_psnr=29.6, v_num=0, val_loss=0.0788, val_psnr=14.2]\n",
            "INFO:lightning:\n",
            "\n",
            "Profiler Report\n",
            "\n",
            "Action              \t|  Mean duration (s)\t|  Total time (s) \n",
            "-----------------------------------------------------------------\n",
            "on_train_start      \t|  0.00049033     \t|  0.00049033     \n",
            "on_epoch_start      \t|  0.00021618     \t|  0.0043237      \n",
            "get_train_batch     \t|  0.00044264     \t|  51.275         \n",
            "on_batch_start      \t|  1.7003e-05     \t|  1.9692         \n",
            "model_forward       \t|  0.024128       \t|  2794.5         \n",
            "model_backward      \t|  0.054459       \t|  6307.4         \n",
            "on_after_backward   \t|  4.8045e-06     \t|  0.55646        \n",
            "optimizer_step      \t|  0.0053867      \t|  623.89         \n",
            "on_batch_end        \t|  0.00034724     \t|  40.217         \n",
            "on_epoch_end        \t|  2.0087e-05     \t|  0.00040173     \n",
            "on_train_end        \t|  0.00036364     \t|  0.00036364     \n",
            "\n"
          ],
          "name": "stdout"
        }
      ]
    },
    {
      "cell_type": "markdown",
      "metadata": {
        "id": "1ziFoDza-kFT"
      },
      "source": [
        "# Testing! (takes about 20~30 minutes)\n",
        "\n",
        "### You can also download the pretrained model for `fern` [here](https://github.com/kwea123/nerf_pl/releases)\n",
        "\n",
        "### The results are saved to `results/llff/$SCENE`"
      ]
    },
    {
      "cell_type": "code",
      "metadata": {
        "colab": {
          "base_uri": "https://localhost:8080/"
        },
        "id": "VuEZAYk0-k4j",
        "outputId": "1c0d4370-1361-4f40-b084-307fa034c02a"
      },
      "source": [
        "os.environ['SCENE'] = 'exp'\n",
        "os.environ['CKPT_PATH'] = '/content/nerf_pl/ckpts/exp/epoch=15.ckpt'\n",
        "os.environ['IMG_W'] = \"200\" \n",
        "os.environ['IMG_H'] = \"200\"\n",
        "!python eval.py \\\n",
        "   --root_dir \"$ROOT_DIR\" \\\n",
        "   --dataset_name blender --scene_name $SCENE \\\n",
        "   --img_wh $IMG_W $IMG_H --N_importance 64 --ckpt_path $CKPT_PATH"
      ],
      "execution_count": null,
      "outputs": [
        {
          "output_type": "stream",
          "text": [
            "100% 200/200 [09:00<00:00,  2.70s/it]\n",
            "Mean PSNR : 14.21\n"
          ],
          "name": "stdout"
        }
      ]
    }
  ]
}