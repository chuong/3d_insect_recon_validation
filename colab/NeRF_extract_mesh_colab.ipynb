{
  "nbformat": 4,
  "nbformat_minor": 0,
  "metadata": {
    "accelerator": "GPU",
    "colab": {
      "name": "NeRF_extract_mesh_colab.ipynb",
      "provenance": [],
      "collapsed_sections": [],
      "machine_shape": "hm"
    },
    "kernelspec": {
      "display_name": "Python 3",
      "name": "python3"
    }
  },
  "cells": [
    {
      "cell_type": "markdown",
      "metadata": {
        "id": "vH7aBVt_7WMm"
      },
      "source": [
        "All code in this notebook is from https://github.com/kwea123/nerf_pl"
      ]
    },
    {
      "cell_type": "markdown",
      "metadata": {
        "id": "ocOP60tuACFX"
      },
      "source": [
        "# Installation"
      ]
    },
    {
      "cell_type": "code",
      "metadata": {
        "colab": {
          "base_uri": "https://localhost:8080/"
        },
        "id": "djAoxA4c8ku3",
        "outputId": "2dba7025-bf25-4fd2-b434-cd009ed78c6d"
      },
      "source": [
        "!git clone --recursive https://github.com/kwea123/nerf_pl\n",
        "\n",
        "%cd /content/nerf_pl\n",
        "!pip install -r requirements.txt\n",
        "\n",
        "%cd /content/nerf_pl/torchsearchsorted\n",
        "!pip install ."
      ],
      "execution_count": null,
      "outputs": [
        {
          "output_type": "stream",
          "text": [
            "fatal: destination path 'nerf_pl' already exists and is not an empty directory.\n",
            "/content/nerf_pl\n",
            "Requirement already satisfied: torch==1.4.0 in /usr/local/lib/python3.7/dist-packages (from -r requirements.txt (line 1)) (1.4.0)\n",
            "Requirement already satisfied: torchvision==0.5.0 in /usr/local/lib/python3.7/dist-packages (from -r requirements.txt (line 2)) (0.5.0)\n",
            "Requirement already satisfied: pytorch-lightning==0.7.5 in /usr/local/lib/python3.7/dist-packages (from -r requirements.txt (line 3)) (0.7.5)\n",
            "Requirement already satisfied: test-tube in /usr/local/lib/python3.7/dist-packages (from -r requirements.txt (line 4)) (0.7.5)\n",
            "Requirement already satisfied: kornia==0.2.0 in /usr/local/lib/python3.7/dist-packages (from -r requirements.txt (line 5)) (0.2.0)\n",
            "Requirement already satisfied: opencv-python==4.2.0.34 in /usr/local/lib/python3.7/dist-packages (from -r requirements.txt (line 6)) (4.2.0.34)\n",
            "Requirement already satisfied: matplotlib in /usr/local/lib/python3.7/dist-packages (from -r requirements.txt (line 7)) (3.2.2)\n",
            "Requirement already satisfied: jupyter in /usr/local/lib/python3.7/dist-packages (from -r requirements.txt (line 8)) (1.0.0)\n",
            "Requirement already satisfied: PyMCubes in /usr/local/lib/python3.7/dist-packages (from -r requirements.txt (line 11)) (0.1.2)\n",
            "Requirement already satisfied: pycollada in /usr/local/lib/python3.7/dist-packages (from -r requirements.txt (line 12)) (0.7.1)\n",
            "Requirement already satisfied: trimesh in /usr/local/lib/python3.7/dist-packages (from -r requirements.txt (line 13)) (3.9.21)\n",
            "Requirement already satisfied: pyglet in /usr/local/lib/python3.7/dist-packages (from -r requirements.txt (line 14)) (1.5.0)\n",
            "Requirement already satisfied: plyfile in /usr/local/lib/python3.7/dist-packages (from -r requirements.txt (line 17)) (0.7.4)\n",
            "Requirement already satisfied: open3d in /usr/local/lib/python3.7/dist-packages (from -r requirements.txt (line 18)) (0.13.0)\n",
            "Requirement already satisfied: numpy in /usr/local/lib/python3.7/dist-packages (from torchvision==0.5.0->-r requirements.txt (line 2)) (1.19.5)\n",
            "Requirement already satisfied: six in /usr/local/lib/python3.7/dist-packages (from torchvision==0.5.0->-r requirements.txt (line 2)) (1.15.0)\n",
            "Requirement already satisfied: pillow>=4.1.1 in /usr/local/lib/python3.7/dist-packages (from torchvision==0.5.0->-r requirements.txt (line 2)) (7.1.2)\n",
            "Requirement already satisfied: tensorboard>=1.14 in /usr/local/lib/python3.7/dist-packages (from pytorch-lightning==0.7.5->-r requirements.txt (line 3)) (2.5.0)\n",
            "Requirement already satisfied: future>=0.17.1 in /usr/local/lib/python3.7/dist-packages (from pytorch-lightning==0.7.5->-r requirements.txt (line 3)) (0.18.2)\n",
            "Requirement already satisfied: tqdm>=4.41.0 in /usr/local/lib/python3.7/dist-packages (from pytorch-lightning==0.7.5->-r requirements.txt (line 3)) (4.41.1)\n",
            "Requirement already satisfied: imageio>=2.3.0 in /usr/local/lib/python3.7/dist-packages (from test-tube->-r requirements.txt (line 4)) (2.4.1)\n",
            "Requirement already satisfied: pandas>=0.20.3 in /usr/local/lib/python3.7/dist-packages (from test-tube->-r requirements.txt (line 4)) (1.1.5)\n",
            "Requirement already satisfied: cycler>=0.10 in /usr/local/lib/python3.7/dist-packages (from matplotlib->-r requirements.txt (line 7)) (0.10.0)\n",
            "Requirement already satisfied: pyparsing!=2.0.4,!=2.1.2,!=2.1.6,>=2.0.1 in /usr/local/lib/python3.7/dist-packages (from matplotlib->-r requirements.txt (line 7)) (2.4.7)\n",
            "Requirement already satisfied: kiwisolver>=1.0.1 in /usr/local/lib/python3.7/dist-packages (from matplotlib->-r requirements.txt (line 7)) (1.3.1)\n",
            "Requirement already satisfied: python-dateutil>=2.1 in /usr/local/lib/python3.7/dist-packages (from matplotlib->-r requirements.txt (line 7)) (2.8.1)\n",
            "Requirement already satisfied: notebook in /usr/local/lib/python3.7/dist-packages (from jupyter->-r requirements.txt (line 8)) (5.3.1)\n",
            "Requirement already satisfied: qtconsole in /usr/local/lib/python3.7/dist-packages (from jupyter->-r requirements.txt (line 8)) (5.1.1)\n",
            "Requirement already satisfied: ipykernel in /usr/local/lib/python3.7/dist-packages (from jupyter->-r requirements.txt (line 8)) (4.10.1)\n",
            "Requirement already satisfied: nbconvert in /usr/local/lib/python3.7/dist-packages (from jupyter->-r requirements.txt (line 8)) (5.6.1)\n",
            "Requirement already satisfied: ipywidgets in /usr/local/lib/python3.7/dist-packages (from jupyter->-r requirements.txt (line 8)) (7.6.3)\n",
            "Requirement already satisfied: jupyter-console in /usr/local/lib/python3.7/dist-packages (from jupyter->-r requirements.txt (line 8)) (5.2.0)\n",
            "Requirement already satisfied: setuptools in /usr/local/lib/python3.7/dist-packages (from trimesh->-r requirements.txt (line 13)) (57.0.0)\n",
            "Requirement already satisfied: wheel>=0.36.0 in /usr/local/lib/python3.7/dist-packages (from open3d->-r requirements.txt (line 18)) (0.36.2)\n",
            "Requirement already satisfied: addict in /usr/local/lib/python3.7/dist-packages (from open3d->-r requirements.txt (line 18)) (2.4.0)\n",
            "Requirement already satisfied: pygments>=2.7.4 in /usr/local/lib/python3.7/dist-packages (from open3d->-r requirements.txt (line 18)) (2.9.0)\n",
            "Requirement already satisfied: pyyaml>=5.4.1 in /usr/local/lib/python3.7/dist-packages (from open3d->-r requirements.txt (line 18)) (5.4.1)\n",
            "Requirement already satisfied: jupyterlab==3.*,>=3.0.0 in /usr/local/lib/python3.7/dist-packages (from open3d->-r requirements.txt (line 18)) (3.0.16)\n",
            "Requirement already satisfied: scikit-learn>=0.21 in /usr/local/lib/python3.7/dist-packages (from open3d->-r requirements.txt (line 18)) (0.22.2.post1)\n",
            "Requirement already satisfied: jupyter-packaging~=0.10 in /usr/local/lib/python3.7/dist-packages (from open3d->-r requirements.txt (line 18)) (0.10.4)\n",
            "Requirement already satisfied: google-auth-oauthlib<0.5,>=0.4.1 in /usr/local/lib/python3.7/dist-packages (from tensorboard>=1.14->pytorch-lightning==0.7.5->-r requirements.txt (line 3)) (0.4.4)\n",
            "Requirement already satisfied: tensorboard-data-server<0.7.0,>=0.6.0 in /usr/local/lib/python3.7/dist-packages (from tensorboard>=1.14->pytorch-lightning==0.7.5->-r requirements.txt (line 3)) (0.6.1)\n",
            "Requirement already satisfied: markdown>=2.6.8 in /usr/local/lib/python3.7/dist-packages (from tensorboard>=1.14->pytorch-lightning==0.7.5->-r requirements.txt (line 3)) (3.3.4)\n",
            "Requirement already satisfied: requests<3,>=2.21.0 in /usr/local/lib/python3.7/dist-packages (from tensorboard>=1.14->pytorch-lightning==0.7.5->-r requirements.txt (line 3)) (2.23.0)\n",
            "Requirement already satisfied: tensorboard-plugin-wit>=1.6.0 in /usr/local/lib/python3.7/dist-packages (from tensorboard>=1.14->pytorch-lightning==0.7.5->-r requirements.txt (line 3)) (1.8.0)\n",
            "Requirement already satisfied: google-auth<2,>=1.6.3 in /usr/local/lib/python3.7/dist-packages (from tensorboard>=1.14->pytorch-lightning==0.7.5->-r requirements.txt (line 3)) (1.32.1)\n",
            "Requirement already satisfied: grpcio>=1.24.3 in /usr/local/lib/python3.7/dist-packages (from tensorboard>=1.14->pytorch-lightning==0.7.5->-r requirements.txt (line 3)) (1.34.1)\n",
            "Requirement already satisfied: absl-py>=0.4 in /usr/local/lib/python3.7/dist-packages (from tensorboard>=1.14->pytorch-lightning==0.7.5->-r requirements.txt (line 3)) (0.12.0)\n",
            "Requirement already satisfied: protobuf>=3.6.0 in /usr/local/lib/python3.7/dist-packages (from tensorboard>=1.14->pytorch-lightning==0.7.5->-r requirements.txt (line 3)) (3.17.3)\n",
            "Requirement already satisfied: werkzeug>=0.11.15 in /usr/local/lib/python3.7/dist-packages (from tensorboard>=1.14->pytorch-lightning==0.7.5->-r requirements.txt (line 3)) (1.0.1)\n",
            "Requirement already satisfied: pytz>=2017.2 in /usr/local/lib/python3.7/dist-packages (from pandas>=0.20.3->test-tube->-r requirements.txt (line 4)) (2018.9)\n",
            "Requirement already satisfied: jupyter-core>=4.4.0 in /usr/local/lib/python3.7/dist-packages (from notebook->jupyter->-r requirements.txt (line 8)) (4.7.1)\n",
            "Requirement already satisfied: jinja2 in /usr/local/lib/python3.7/dist-packages (from notebook->jupyter->-r requirements.txt (line 8)) (2.11.3)\n",
            "Requirement already satisfied: ipython-genutils in /usr/local/lib/python3.7/dist-packages (from notebook->jupyter->-r requirements.txt (line 8)) (0.2.0)\n",
            "Requirement already satisfied: nbformat in /usr/local/lib/python3.7/dist-packages (from notebook->jupyter->-r requirements.txt (line 8)) (5.1.3)\n",
            "Requirement already satisfied: jupyter-client>=5.2.0 in /usr/local/lib/python3.7/dist-packages (from notebook->jupyter->-r requirements.txt (line 8)) (5.3.5)\n",
            "Requirement already satisfied: traitlets>=4.2.1 in /usr/local/lib/python3.7/dist-packages (from notebook->jupyter->-r requirements.txt (line 8)) (5.0.5)\n",
            "Requirement already satisfied: Send2Trash in /usr/local/lib/python3.7/dist-packages (from notebook->jupyter->-r requirements.txt (line 8)) (1.7.1)\n",
            "Requirement already satisfied: tornado>=4 in /usr/local/lib/python3.7/dist-packages (from notebook->jupyter->-r requirements.txt (line 8)) (5.1.1)\n",
            "Requirement already satisfied: terminado>=0.8.1 in /usr/local/lib/python3.7/dist-packages (from notebook->jupyter->-r requirements.txt (line 8)) (0.10.1)\n",
            "Requirement already satisfied: pyzmq>=17.1 in /usr/local/lib/python3.7/dist-packages (from qtconsole->jupyter->-r requirements.txt (line 8)) (22.1.0)\n",
            "Requirement already satisfied: qtpy in /usr/local/lib/python3.7/dist-packages (from qtconsole->jupyter->-r requirements.txt (line 8)) (1.9.0)\n",
            "Requirement already satisfied: ipython>=4.0.0 in /usr/local/lib/python3.7/dist-packages (from ipykernel->jupyter->-r requirements.txt (line 8)) (5.5.0)\n",
            "Requirement already satisfied: bleach in /usr/local/lib/python3.7/dist-packages (from nbconvert->jupyter->-r requirements.txt (line 8)) (3.3.0)\n",
            "Requirement already satisfied: testpath in /usr/local/lib/python3.7/dist-packages (from nbconvert->jupyter->-r requirements.txt (line 8)) (0.5.0)\n",
            "Requirement already satisfied: pandocfilters>=1.4.1 in /usr/local/lib/python3.7/dist-packages (from nbconvert->jupyter->-r requirements.txt (line 8)) (1.4.3)\n",
            "Requirement already satisfied: entrypoints>=0.2.2 in /usr/local/lib/python3.7/dist-packages (from nbconvert->jupyter->-r requirements.txt (line 8)) (0.3)\n",
            "Requirement already satisfied: mistune<2,>=0.8.1 in /usr/local/lib/python3.7/dist-packages (from nbconvert->jupyter->-r requirements.txt (line 8)) (0.8.4)\n",
            "Requirement already satisfied: defusedxml in /usr/local/lib/python3.7/dist-packages (from nbconvert->jupyter->-r requirements.txt (line 8)) (0.7.1)\n",
            "Requirement already satisfied: jupyterlab-widgets>=1.0.0; python_version >= \"3.6\" in /usr/local/lib/python3.7/dist-packages (from ipywidgets->jupyter->-r requirements.txt (line 8)) (1.0.0)\n",
            "Requirement already satisfied: widgetsnbextension~=3.5.0 in /usr/local/lib/python3.7/dist-packages (from ipywidgets->jupyter->-r requirements.txt (line 8)) (3.5.1)\n",
            "Requirement already satisfied: prompt-toolkit<2.0.0,>=1.0.0 in /usr/local/lib/python3.7/dist-packages (from jupyter-console->jupyter->-r requirements.txt (line 8)) (1.0.18)\n",
            "Requirement already satisfied: jupyter-server~=1.4 in /usr/local/lib/python3.7/dist-packages (from jupyterlab==3.*,>=3.0.0->open3d->-r requirements.txt (line 18)) (1.9.0)\n",
            "Requirement already satisfied: nbclassic~=0.2 in /usr/local/lib/python3.7/dist-packages (from jupyterlab==3.*,>=3.0.0->open3d->-r requirements.txt (line 18)) (0.3.1)\n",
            "Requirement already satisfied: jupyterlab-server~=2.3 in /usr/local/lib/python3.7/dist-packages (from jupyterlab==3.*,>=3.0.0->open3d->-r requirements.txt (line 18)) (2.6.1)\n",
            "Requirement already satisfied: packaging in /usr/local/lib/python3.7/dist-packages (from jupyterlab==3.*,>=3.0.0->open3d->-r requirements.txt (line 18)) (20.9)\n",
            "Requirement already satisfied: joblib>=0.11 in /usr/local/lib/python3.7/dist-packages (from scikit-learn>=0.21->open3d->-r requirements.txt (line 18)) (1.0.1)\n",
            "Requirement already satisfied: scipy>=0.17.0 in /usr/local/lib/python3.7/dist-packages (from scikit-learn>=0.21->open3d->-r requirements.txt (line 18)) (1.4.1)\n",
            "Requirement already satisfied: tomlkit in /usr/local/lib/python3.7/dist-packages (from jupyter-packaging~=0.10->open3d->-r requirements.txt (line 18)) (0.7.2)\n",
            "Requirement already satisfied: deprecation in /usr/local/lib/python3.7/dist-packages (from jupyter-packaging~=0.10->open3d->-r requirements.txt (line 18)) (2.1.0)\n",
            "Requirement already satisfied: requests-oauthlib>=0.7.0 in /usr/local/lib/python3.7/dist-packages (from google-auth-oauthlib<0.5,>=0.4.1->tensorboard>=1.14->pytorch-lightning==0.7.5->-r requirements.txt (line 3)) (1.3.0)\n",
            "Requirement already satisfied: importlib-metadata; python_version < \"3.8\" in /usr/local/lib/python3.7/dist-packages (from markdown>=2.6.8->tensorboard>=1.14->pytorch-lightning==0.7.5->-r requirements.txt (line 3)) (4.6.0)\n",
            "Requirement already satisfied: urllib3!=1.25.0,!=1.25.1,<1.26,>=1.21.1 in /usr/local/lib/python3.7/dist-packages (from requests<3,>=2.21.0->tensorboard>=1.14->pytorch-lightning==0.7.5->-r requirements.txt (line 3)) (1.24.3)\n",
            "Requirement already satisfied: idna<3,>=2.5 in /usr/local/lib/python3.7/dist-packages (from requests<3,>=2.21.0->tensorboard>=1.14->pytorch-lightning==0.7.5->-r requirements.txt (line 3)) (2.10)\n",
            "Requirement already satisfied: certifi>=2017.4.17 in /usr/local/lib/python3.7/dist-packages (from requests<3,>=2.21.0->tensorboard>=1.14->pytorch-lightning==0.7.5->-r requirements.txt (line 3)) (2021.5.30)\n",
            "Requirement already satisfied: chardet<4,>=3.0.2 in /usr/local/lib/python3.7/dist-packages (from requests<3,>=2.21.0->tensorboard>=1.14->pytorch-lightning==0.7.5->-r requirements.txt (line 3)) (3.0.4)\n",
            "Requirement already satisfied: rsa<5,>=3.1.4; python_version >= \"3.6\" in /usr/local/lib/python3.7/dist-packages (from google-auth<2,>=1.6.3->tensorboard>=1.14->pytorch-lightning==0.7.5->-r requirements.txt (line 3)) (4.7.2)\n",
            "Requirement already satisfied: pyasn1-modules>=0.2.1 in /usr/local/lib/python3.7/dist-packages (from google-auth<2,>=1.6.3->tensorboard>=1.14->pytorch-lightning==0.7.5->-r requirements.txt (line 3)) (0.2.8)\n",
            "Requirement already satisfied: cachetools<5.0,>=2.0.0 in /usr/local/lib/python3.7/dist-packages (from google-auth<2,>=1.6.3->tensorboard>=1.14->pytorch-lightning==0.7.5->-r requirements.txt (line 3)) (4.2.2)\n",
            "Requirement already satisfied: MarkupSafe>=0.23 in /usr/local/lib/python3.7/dist-packages (from jinja2->notebook->jupyter->-r requirements.txt (line 8)) (2.0.1)\n",
            "Requirement already satisfied: jsonschema!=2.5.0,>=2.4 in /usr/local/lib/python3.7/dist-packages (from nbformat->notebook->jupyter->-r requirements.txt (line 8)) (2.6.0)\n",
            "Requirement already satisfied: ptyprocess; os_name != \"nt\" in /usr/local/lib/python3.7/dist-packages (from terminado>=0.8.1->notebook->jupyter->-r requirements.txt (line 8)) (0.7.0)\n",
            "Requirement already satisfied: pickleshare in /usr/local/lib/python3.7/dist-packages (from ipython>=4.0.0->ipykernel->jupyter->-r requirements.txt (line 8)) (0.7.5)\n",
            "Requirement already satisfied: simplegeneric>0.8 in /usr/local/lib/python3.7/dist-packages (from ipython>=4.0.0->ipykernel->jupyter->-r requirements.txt (line 8)) (0.8.1)\n",
            "Requirement already satisfied: decorator in /usr/local/lib/python3.7/dist-packages (from ipython>=4.0.0->ipykernel->jupyter->-r requirements.txt (line 8)) (4.4.2)\n",
            "Requirement already satisfied: pexpect; sys_platform != \"win32\" in /usr/local/lib/python3.7/dist-packages (from ipython>=4.0.0->ipykernel->jupyter->-r requirements.txt (line 8)) (4.8.0)\n",
            "Requirement already satisfied: webencodings in /usr/local/lib/python3.7/dist-packages (from bleach->nbconvert->jupyter->-r requirements.txt (line 8)) (0.5.1)\n",
            "Requirement already satisfied: wcwidth in /usr/local/lib/python3.7/dist-packages (from prompt-toolkit<2.0.0,>=1.0.0->jupyter-console->jupyter->-r requirements.txt (line 8)) (0.2.5)\n",
            "Requirement already satisfied: websocket-client in /usr/local/lib/python3.7/dist-packages (from jupyter-server~=1.4->jupyterlab==3.*,>=3.0.0->open3d->-r requirements.txt (line 18)) (1.1.0)\n",
            "Requirement already satisfied: argon2-cffi in /usr/local/lib/python3.7/dist-packages (from jupyter-server~=1.4->jupyterlab==3.*,>=3.0.0->open3d->-r requirements.txt (line 18)) (20.1.0)\n",
            "Requirement already satisfied: prometheus-client in /usr/local/lib/python3.7/dist-packages (from jupyter-server~=1.4->jupyterlab==3.*,>=3.0.0->open3d->-r requirements.txt (line 18)) (0.11.0)\n",
            "Requirement already satisfied: requests-unixsocket in /usr/local/lib/python3.7/dist-packages (from jupyter-server~=1.4->jupyterlab==3.*,>=3.0.0->open3d->-r requirements.txt (line 18)) (0.2.0)\n",
            "Requirement already satisfied: anyio<4,>=3.1.0 in /usr/local/lib/python3.7/dist-packages (from jupyter-server~=1.4->jupyterlab==3.*,>=3.0.0->open3d->-r requirements.txt (line 18)) (3.2.1)\n",
            "Requirement already satisfied: babel in /usr/local/lib/python3.7/dist-packages (from jupyterlab-server~=2.3->jupyterlab==3.*,>=3.0.0->open3d->-r requirements.txt (line 18)) (2.9.1)\n",
            "Requirement already satisfied: json5 in /usr/local/lib/python3.7/dist-packages (from jupyterlab-server~=2.3->jupyterlab==3.*,>=3.0.0->open3d->-r requirements.txt (line 18)) (0.9.6)\n",
            "Requirement already satisfied: oauthlib>=3.0.0 in /usr/local/lib/python3.7/dist-packages (from requests-oauthlib>=0.7.0->google-auth-oauthlib<0.5,>=0.4.1->tensorboard>=1.14->pytorch-lightning==0.7.5->-r requirements.txt (line 3)) (3.1.1)\n",
            "Requirement already satisfied: zipp>=0.5 in /usr/local/lib/python3.7/dist-packages (from importlib-metadata; python_version < \"3.8\"->markdown>=2.6.8->tensorboard>=1.14->pytorch-lightning==0.7.5->-r requirements.txt (line 3)) (3.4.1)\n",
            "Requirement already satisfied: typing-extensions>=3.6.4; python_version < \"3.8\" in /usr/local/lib/python3.7/dist-packages (from importlib-metadata; python_version < \"3.8\"->markdown>=2.6.8->tensorboard>=1.14->pytorch-lightning==0.7.5->-r requirements.txt (line 3)) (3.7.4.3)\n",
            "Requirement already satisfied: pyasn1>=0.1.3 in /usr/local/lib/python3.7/dist-packages (from rsa<5,>=3.1.4; python_version >= \"3.6\"->google-auth<2,>=1.6.3->tensorboard>=1.14->pytorch-lightning==0.7.5->-r requirements.txt (line 3)) (0.4.8)\n",
            "Requirement already satisfied: cffi>=1.0.0 in /usr/local/lib/python3.7/dist-packages (from argon2-cffi->jupyter-server~=1.4->jupyterlab==3.*,>=3.0.0->open3d->-r requirements.txt (line 18)) (1.14.5)\n",
            "Requirement already satisfied: sniffio>=1.1 in /usr/local/lib/python3.7/dist-packages (from anyio<4,>=3.1.0->jupyter-server~=1.4->jupyterlab==3.*,>=3.0.0->open3d->-r requirements.txt (line 18)) (1.2.0)\n",
            "Requirement already satisfied: pycparser in /usr/local/lib/python3.7/dist-packages (from cffi>=1.0.0->argon2-cffi->jupyter-server~=1.4->jupyterlab==3.*,>=3.0.0->open3d->-r requirements.txt (line 18)) (2.20)\n",
            "/content/nerf_pl/torchsearchsorted\n",
            "Processing /content/nerf_pl/torchsearchsorted\n",
            "Building wheels for collected packages: torchsearchsorted\n",
            "  Building wheel for torchsearchsorted (setup.py) ... \u001b[?25l\u001b[?25hdone\n",
            "  Created wheel for torchsearchsorted: filename=torchsearchsorted-1.1-cp37-cp37m-linux_x86_64.whl size=3208331 sha256=f4eccbdc60ff9df4f8881a9f8325367f39f150ff5f61c3b1f95f66535484195b\n",
            "  Stored in directory: /tmp/pip-ephem-wheel-cache-1lqa_nft/wheels/59/fc/44/760e2635d529922fac28c4eb8790e8f6c898fffd1921cf821a\n",
            "Successfully built torchsearchsorted\n",
            "Installing collected packages: torchsearchsorted\n",
            "  Found existing installation: torchsearchsorted 1.1\n",
            "    Uninstalling torchsearchsorted-1.1:\n",
            "      Successfully uninstalled torchsearchsorted-1.1\n",
            "Successfully installed torchsearchsorted-1.1\n"
          ],
          "name": "stdout"
        }
      ]
    },
    {
      "cell_type": "markdown",
      "metadata": {
        "id": "UgZy82gl9ieI"
      },
      "source": [
        "# Mount your drive (to access data)"
      ]
    },
    {
      "cell_type": "code",
      "metadata": {
        "colab": {
          "base_uri": "https://localhost:8080/"
        },
        "id": "o0KzmUyd9Z7s",
        "outputId": "b0bc1281-f6da-4993-b2ce-264e123997f0"
      },
      "source": [
        "from google.colab import drive\n",
        "drive.mount('/content/drive/', force_remount=True)"
      ],
      "execution_count": null,
      "outputs": [
        {
          "output_type": "stream",
          "text": [
            "Mounted at /content/drive/\n"
          ],
          "name": "stdout"
        }
      ]
    },
    {
      "cell_type": "code",
      "metadata": {
        "colab": {
          "base_uri": "https://localhost:8080/"
        },
        "id": "iXb2f51D9S3a",
        "outputId": "55c6224b-0458-4f03-c033-06ad6627b6aa"
      },
      "source": [
        "%cd /content/nerf_pl\n",
        "\n",
        "import torch\n",
        "from collections import defaultdict\n",
        "import numpy as np\n",
        "import mcubes\n",
        "import trimesh\n",
        "\n",
        "from models.rendering import *\n",
        "from models.nerf import *\n",
        "\n",
        "from datasets import dataset_dict\n",
        "\n",
        "from utils import load_ckpt"
      ],
      "execution_count": null,
      "outputs": [
        {
          "output_type": "stream",
          "text": [
            "/content/nerf_pl\n"
          ],
          "name": "stdout"
        }
      ]
    },
    {
      "cell_type": "markdown",
      "metadata": {
        "id": "MX-0OSxi-9Uo"
      },
      "source": [
        "# Load model"
      ]
    },
    {
      "cell_type": "code",
      "metadata": {
        "colab": {
          "background_save": true
        },
        "id": "eGDyBnIk9Vy3"
      },
      "source": [
        "# Change here #\n",
        "img_wh = (1080, 1080) # full resolution of the input images\n",
        "dataset_name = 'llff' # blender or llff (own data)\n",
        "scene_name = 'insect' # whatever you want\n",
        "root_dir = '/content/drive/My Drive/nerf/cc_meshroom' # the folder containing data (images/ and poses_bounds.npy)\n",
        "# ckpt_path = '/content/drive/My Drive/nerf/cc540/epoch=7.ckpt' # the model path\n",
        "ckpt_path = '/content/epoch=4.ckpt'\n",
        "###############\n",
        "\n",
        "kwargs = {'root_dir': root_dir,\n",
        "          'img_wh': img_wh}\n",
        "if dataset_name == 'llff':\n",
        "    kwargs['spheric_poses'] = True\n",
        "    kwargs['split'] = 'test'\n",
        "else:\n",
        "    kwargs['split'] = 'train'\n",
        "    \n",
        "chunk = 1024*32\n",
        "# dataset = dataset_dict[dataset_name](**kwargs)\n",
        "\n",
        "embedding_xyz = Embedding(3, 10)\n",
        "embedding_dir = Embedding(3, 4)\n",
        "\n",
        "nerf_fine = NeRF()\n",
        "load_ckpt(nerf_fine, ckpt_path, model_name='nerf_fine')\n",
        "nerf_fine.cuda().eval();"
      ],
      "execution_count": null,
      "outputs": []
    },
    {
      "cell_type": "markdown",
      "metadata": {
        "id": "iT18ujWbjohX"
      },
      "source": [
        "# Load Blender Model"
      ]
    },
    {
      "cell_type": "code",
      "metadata": {
        "colab": {
          "base_uri": "https://localhost:8080/"
        },
        "id": "PcKbuxQGjqPO",
        "outputId": "209ca0a4-3cc2-4118-ab4e-2cf7b30af69d"
      },
      "source": [
        "# Change here #\n",
        "img_wh = (1080, 1080) # full resolution of the input images\n",
        "dataset_name = 'blender' # blender or llff (own data)\n",
        "scene_name = 'mic' # whatever you want\n",
        "root_dir = '/content/drive/My Drive/nerf/spaceship_train_val' # the folder containing data (images/ and poses_bounds.npy)\n",
        "ckpt_path = '/content/epoch=3.ckpt' # the model path\n",
        "###############\n",
        "\n",
        "kwargs = {'root_dir': root_dir,\n",
        "          'img_wh': img_wh}\n",
        "if dataset_name == 'llff':\n",
        "    kwargs['spheric_poses'] = True\n",
        "    kwargs['split'] = 'test'\n",
        "else:\n",
        "    kwargs['split'] = 'train'\n",
        "    \n",
        "chunk = 1024*32\n",
        "print(kwargs)\n",
        "# dataset = dataset_dict[dataset_name](**kwargs)\n",
        "\n",
        "embedding_xyz = Embedding(3, 10)\n",
        "embedding_dir = Embedding(3, 4)\n",
        "\n",
        "nerf_fine = NeRF()\n",
        "load_ckpt(nerf_fine, ckpt_path, model_name='nerf_fine')\n",
        "nerf_fine.cuda().eval();"
      ],
      "execution_count": null,
      "outputs": [
        {
          "output_type": "stream",
          "text": [
            "{'root_dir': '/content/drive/My Drive/nerf/spaceship_train_val', 'img_wh': (1080, 1080), 'split': 'train'}\n"
          ],
          "name": "stdout"
        }
      ]
    },
    {
      "cell_type": "markdown",
      "metadata": {
        "id": "hy5p5fBp-22w"
      },
      "source": [
        "# Search for tight bounds (trial and error!)"
      ]
    },
    {
      "cell_type": "code",
      "metadata": {
        "colab": {
          "base_uri": "https://localhost:8080/",
          "height": 338
        },
        "id": "MrFyZ2u5-D9i",
        "outputId": "27772049-5754-47fc-bee6-9b51d94f8d2f"
      },
      "source": [
        "### Tune these parameters until the whole object lies tightly in range with little noise ###\n",
        "N = 128 # controls the resolution, set this number small here because we're only finding\n",
        "        # good ranges here, not yet for mesh reconstruction; we can set this number high\n",
        "        # when it comes to final reconstruction.\n",
        "xmin, xmax = -2, 2 # left/right range\n",
        "ymin, ymax = -2, 2 # forward/backward range\n",
        "zmin, zmax = -2, 2 # up/down range\n",
        "## Attention! the ranges MUST have the same length!\n",
        "sigma_threshold = 1. # controls the noise (lower=maybe more noise; higher=some mesh might be missing)\n",
        "############################################################################################\n",
        "\n",
        "x = np.linspace(xmin, xmax, N)\n",
        "y = np.linspace(ymin, ymax, N)\n",
        "z = np.linspace(zmin, zmax, N)\n",
        "\n",
        "xyz_ = torch.FloatTensor(np.stack(np.meshgrid(x, y, z), -1).reshape(-1, 3)).cuda()\n",
        "dir_ = torch.zeros_like(xyz_).cuda()\n",
        "\n",
        "with torch.no_grad():\n",
        "    B = xyz_.shape[0]\n",
        "    out_chunks = []\n",
        "    for i in range(0, B, chunk):\n",
        "        xyz_embedded = embedding_xyz(xyz_[i:i+chunk]) # (N, embed_xyz_channels)\n",
        "        dir_embedded = embedding_dir(dir_[i:i+chunk]) # (N, embed_dir_channels)\n",
        "        xyzdir_embedded = torch.cat([xyz_embedded, dir_embedded], 1)\n",
        "        out_chunks += [nerf_fine(xyzdir_embedded)]\n",
        "    rgbsigma = torch.cat(out_chunks, 0)\n",
        "    \n",
        "sigma = rgbsigma[:, -1].cpu().numpy()\n",
        "sigma = np.maximum(sigma, 0)\n",
        "sigma = sigma.reshape(N, N, N)\n",
        "\n",
        "vertices, triangles = mcubes.marching_cubes(sigma, sigma_threshold)\n",
        "\n",
        "mesh = trimesh.Trimesh(vertices/N, triangles)\n",
        "\n",
        "mesh.show()"
      ],
      "execution_count": null,
      "outputs": [
        {
          "output_type": "error",
          "ename": "ValueError",
          "evalue": "ignored",
          "traceback": [
            "\u001b[0;31m---------------------------------------------------------------------------\u001b[0m",
            "\u001b[0;31mValueError\u001b[0m                                Traceback (most recent call last)",
            "\u001b[0;32m<ipython-input-7-1b0d83b43e4d>\u001b[0m in \u001b[0;36m<module>\u001b[0;34m()\u001b[0m\n\u001b[1;32m     35\u001b[0m \u001b[0mmesh\u001b[0m \u001b[0;34m=\u001b[0m \u001b[0mtrimesh\u001b[0m\u001b[0;34m.\u001b[0m\u001b[0mTrimesh\u001b[0m\u001b[0;34m(\u001b[0m\u001b[0mvertices\u001b[0m\u001b[0;34m/\u001b[0m\u001b[0mN\u001b[0m\u001b[0;34m,\u001b[0m \u001b[0mtriangles\u001b[0m\u001b[0;34m)\u001b[0m\u001b[0;34m\u001b[0m\u001b[0;34m\u001b[0m\u001b[0m\n\u001b[1;32m     36\u001b[0m \u001b[0;34m\u001b[0m\u001b[0m\n\u001b[0;32m---> 37\u001b[0;31m \u001b[0mmesh\u001b[0m\u001b[0;34m.\u001b[0m\u001b[0mshow\u001b[0m\u001b[0;34m(\u001b[0m\u001b[0;34m)\u001b[0m\u001b[0;34m\u001b[0m\u001b[0;34m\u001b[0m\u001b[0m\n\u001b[0m",
            "\u001b[0;32m/usr/local/lib/python3.7/dist-packages/trimesh/base.py\u001b[0m in \u001b[0;36mshow\u001b[0;34m(self, **kwargs)\u001b[0m\n\u001b[1;32m   2578\u001b[0m         \"\"\"\n\u001b[1;32m   2579\u001b[0m         \u001b[0mscene\u001b[0m \u001b[0;34m=\u001b[0m \u001b[0mself\u001b[0m\u001b[0;34m.\u001b[0m\u001b[0mscene\u001b[0m\u001b[0;34m(\u001b[0m\u001b[0;34m)\u001b[0m\u001b[0;34m\u001b[0m\u001b[0;34m\u001b[0m\u001b[0m\n\u001b[0;32m-> 2580\u001b[0;31m         \u001b[0;32mreturn\u001b[0m \u001b[0mscene\u001b[0m\u001b[0;34m.\u001b[0m\u001b[0mshow\u001b[0m\u001b[0;34m(\u001b[0m\u001b[0;34m**\u001b[0m\u001b[0mkwargs\u001b[0m\u001b[0;34m)\u001b[0m\u001b[0;34m\u001b[0m\u001b[0;34m\u001b[0m\u001b[0m\n\u001b[0m\u001b[1;32m   2581\u001b[0m \u001b[0;34m\u001b[0m\u001b[0m\n\u001b[1;32m   2582\u001b[0m     \u001b[0;32mdef\u001b[0m \u001b[0msubmesh\u001b[0m\u001b[0;34m(\u001b[0m\u001b[0mself\u001b[0m\u001b[0;34m,\u001b[0m \u001b[0mfaces_sequence\u001b[0m\u001b[0;34m,\u001b[0m \u001b[0;34m**\u001b[0m\u001b[0mkwargs\u001b[0m\u001b[0;34m)\u001b[0m\u001b[0;34m:\u001b[0m\u001b[0;34m\u001b[0m\u001b[0;34m\u001b[0m\u001b[0m\n",
            "\u001b[0;32m/usr/local/lib/python3.7/dist-packages/trimesh/scene/scene.py\u001b[0m in \u001b[0;36mshow\u001b[0;34m(self, viewer, **kwargs)\u001b[0m\n\u001b[1;32m   1098\u001b[0m         \u001b[0;32melif\u001b[0m \u001b[0mviewer\u001b[0m \u001b[0;34m==\u001b[0m \u001b[0;34m'notebook'\u001b[0m\u001b[0;34m:\u001b[0m\u001b[0;34m\u001b[0m\u001b[0;34m\u001b[0m\u001b[0m\n\u001b[1;32m   1099\u001b[0m             \u001b[0;32mfrom\u001b[0m \u001b[0;34m.\u001b[0m\u001b[0;34m.\u001b[0m\u001b[0mviewer\u001b[0m \u001b[0;32mimport\u001b[0m \u001b[0mscene_to_notebook\u001b[0m\u001b[0;34m\u001b[0m\u001b[0;34m\u001b[0m\u001b[0m\n\u001b[0;32m-> 1100\u001b[0;31m             \u001b[0;32mreturn\u001b[0m \u001b[0mscene_to_notebook\u001b[0m\u001b[0;34m(\u001b[0m\u001b[0mself\u001b[0m\u001b[0;34m,\u001b[0m \u001b[0;34m**\u001b[0m\u001b[0mkwargs\u001b[0m\u001b[0;34m)\u001b[0m\u001b[0;34m\u001b[0m\u001b[0;34m\u001b[0m\u001b[0m\n\u001b[0m\u001b[1;32m   1101\u001b[0m         \u001b[0;32melse\u001b[0m\u001b[0;34m:\u001b[0m\u001b[0;34m\u001b[0m\u001b[0;34m\u001b[0m\u001b[0m\n\u001b[1;32m   1102\u001b[0m             \u001b[0;32mraise\u001b[0m \u001b[0mValueError\u001b[0m\u001b[0;34m(\u001b[0m\u001b[0;34m'viewer must be \"gl\", \"notebook\", or None'\u001b[0m\u001b[0;34m)\u001b[0m\u001b[0;34m\u001b[0m\u001b[0;34m\u001b[0m\u001b[0m\n",
            "\u001b[0;32m/usr/local/lib/python3.7/dist-packages/trimesh/viewer/notebook.py\u001b[0m in \u001b[0;36mscene_to_notebook\u001b[0;34m(scene, height, **kwargs)\u001b[0m\n\u001b[1;32m     65\u001b[0m \u001b[0;34m\u001b[0m\u001b[0m\n\u001b[1;32m     66\u001b[0m     \u001b[0;31m# convert scene to a full HTML page\u001b[0m\u001b[0;34m\u001b[0m\u001b[0;34m\u001b[0m\u001b[0;34m\u001b[0m\u001b[0m\n\u001b[0;32m---> 67\u001b[0;31m     \u001b[0mas_html\u001b[0m \u001b[0;34m=\u001b[0m \u001b[0mscene_to_html\u001b[0m\u001b[0;34m(\u001b[0m\u001b[0mscene\u001b[0m\u001b[0;34m=\u001b[0m\u001b[0mscene\u001b[0m\u001b[0;34m)\u001b[0m\u001b[0;34m\u001b[0m\u001b[0;34m\u001b[0m\u001b[0m\n\u001b[0m\u001b[1;32m     68\u001b[0m \u001b[0;34m\u001b[0m\u001b[0m\n\u001b[1;32m     69\u001b[0m     \u001b[0;31m# escape the quotes in the HTML\u001b[0m\u001b[0;34m\u001b[0m\u001b[0;34m\u001b[0m\u001b[0;34m\u001b[0m\u001b[0m\n",
            "\u001b[0;32m/usr/local/lib/python3.7/dist-packages/trimesh/viewer/notebook.py\u001b[0m in \u001b[0;36mscene_to_html\u001b[0;34m(scene)\u001b[0m\n\u001b[1;32m     34\u001b[0m         \u001b[0mresources\u001b[0m\u001b[0;34m.\u001b[0m\u001b[0mget\u001b[0m\u001b[0;34m(\u001b[0m\u001b[0;34m'viewer.template.zip'\u001b[0m\u001b[0;34m,\u001b[0m \u001b[0mdecode\u001b[0m\u001b[0;34m=\u001b[0m\u001b[0;32mFalse\u001b[0m\u001b[0;34m)\u001b[0m\u001b[0;34m,\u001b[0m\u001b[0;34m\u001b[0m\u001b[0;34m\u001b[0m\u001b[0m\n\u001b[1;32m     35\u001b[0m         file_type='zip')['viewer.html.template'].read().decode('utf-8')\n\u001b[0;32m---> 36\u001b[0;31m     \u001b[0mscene\u001b[0m\u001b[0;34m.\u001b[0m\u001b[0mcamera\u001b[0m\u001b[0;34m\u001b[0m\u001b[0;34m\u001b[0m\u001b[0m\n\u001b[0m\u001b[1;32m     37\u001b[0m     \u001b[0;31m# get export as bytes\u001b[0m\u001b[0;34m\u001b[0m\u001b[0;34m\u001b[0m\u001b[0;34m\u001b[0m\u001b[0m\n\u001b[1;32m     38\u001b[0m     \u001b[0mdata\u001b[0m \u001b[0;34m=\u001b[0m \u001b[0mscene\u001b[0m\u001b[0;34m.\u001b[0m\u001b[0mexport\u001b[0m\u001b[0;34m(\u001b[0m\u001b[0mfile_type\u001b[0m\u001b[0;34m=\u001b[0m\u001b[0;34m'glb'\u001b[0m\u001b[0;34m)\u001b[0m\u001b[0;34m\u001b[0m\u001b[0;34m\u001b[0m\u001b[0m\n",
            "\u001b[0;32m/usr/local/lib/python3.7/dist-packages/trimesh/scene/scene.py\u001b[0m in \u001b[0;36mcamera\u001b[0;34m(self)\u001b[0m\n\u001b[1;32m    660\u001b[0m         \u001b[0;32mif\u001b[0m \u001b[0;32mnot\u001b[0m \u001b[0mself\u001b[0m\u001b[0;34m.\u001b[0m\u001b[0mhas_camera\u001b[0m\u001b[0;34m:\u001b[0m\u001b[0;34m\u001b[0m\u001b[0;34m\u001b[0m\u001b[0m\n\u001b[1;32m    661\u001b[0m             \u001b[0;31m# will create a camera with everything in view\u001b[0m\u001b[0;34m\u001b[0m\u001b[0;34m\u001b[0m\u001b[0;34m\u001b[0m\u001b[0m\n\u001b[0;32m--> 662\u001b[0;31m             \u001b[0;32mreturn\u001b[0m \u001b[0mself\u001b[0m\u001b[0;34m.\u001b[0m\u001b[0mset_camera\u001b[0m\u001b[0;34m(\u001b[0m\u001b[0;34m)\u001b[0m\u001b[0;34m\u001b[0m\u001b[0;34m\u001b[0m\u001b[0m\n\u001b[0m\u001b[1;32m    663\u001b[0m         \u001b[0;32massert\u001b[0m \u001b[0mself\u001b[0m\u001b[0;34m.\u001b[0m\u001b[0m_camera\u001b[0m \u001b[0;32mis\u001b[0m \u001b[0;32mnot\u001b[0m \u001b[0;32mNone\u001b[0m\u001b[0;34m\u001b[0m\u001b[0;34m\u001b[0m\u001b[0m\n\u001b[1;32m    664\u001b[0m \u001b[0;34m\u001b[0m\u001b[0m\n",
            "\u001b[0;32m/usr/local/lib/python3.7/dist-packages/trimesh/scene/scene.py\u001b[0m in \u001b[0;36mset_camera\u001b[0;34m(self, angles, distance, center, resolution, fov)\u001b[0m\n\u001b[1;32m    579\u001b[0m             \u001b[0mrotation\u001b[0m\u001b[0;34m=\u001b[0m\u001b[0mrotation\u001b[0m\u001b[0;34m,\u001b[0m\u001b[0;34m\u001b[0m\u001b[0;34m\u001b[0m\u001b[0m\n\u001b[1;32m    580\u001b[0m             \u001b[0mdistance\u001b[0m\u001b[0;34m=\u001b[0m\u001b[0mdistance\u001b[0m\u001b[0;34m,\u001b[0m\u001b[0;34m\u001b[0m\u001b[0;34m\u001b[0m\u001b[0m\n\u001b[0;32m--> 581\u001b[0;31m             center=center)\n\u001b[0m\u001b[1;32m    582\u001b[0m \u001b[0;34m\u001b[0m\u001b[0m\n\u001b[1;32m    583\u001b[0m         \u001b[0;32mif\u001b[0m \u001b[0mhasattr\u001b[0m\u001b[0;34m(\u001b[0m\u001b[0mself\u001b[0m\u001b[0;34m,\u001b[0m \u001b[0;34m'_camera'\u001b[0m\u001b[0;34m)\u001b[0m \u001b[0;32mand\u001b[0m \u001b[0mself\u001b[0m\u001b[0;34m.\u001b[0m\u001b[0m_camera\u001b[0m \u001b[0;32mis\u001b[0m \u001b[0;32mnot\u001b[0m \u001b[0;32mNone\u001b[0m\u001b[0;34m:\u001b[0m\u001b[0;34m\u001b[0m\u001b[0;34m\u001b[0m\u001b[0m\n",
            "\u001b[0;32m/usr/local/lib/python3.7/dist-packages/trimesh/scene/cameras.py\u001b[0m in \u001b[0;36mlook_at\u001b[0;34m(points, fov, rotation, distance, center, pad)\u001b[0m\n\u001b[1;32m    327\u001b[0m     \u001b[0;31m# Transform points to camera frame (just use the rotation part)\u001b[0m\u001b[0;34m\u001b[0m\u001b[0;34m\u001b[0m\u001b[0;34m\u001b[0m\u001b[0m\n\u001b[1;32m    328\u001b[0m     \u001b[0mrinv\u001b[0m \u001b[0;34m=\u001b[0m \u001b[0mrotation\u001b[0m\u001b[0;34m[\u001b[0m\u001b[0;34m:\u001b[0m\u001b[0;36m3\u001b[0m\u001b[0;34m,\u001b[0m \u001b[0;34m:\u001b[0m\u001b[0;36m3\u001b[0m\u001b[0;34m]\u001b[0m\u001b[0;34m.\u001b[0m\u001b[0mT\u001b[0m\u001b[0;34m\u001b[0m\u001b[0;34m\u001b[0m\u001b[0m\n\u001b[0;32m--> 329\u001b[0;31m     \u001b[0mpoints_c\u001b[0m \u001b[0;34m=\u001b[0m \u001b[0mrinv\u001b[0m\u001b[0;34m.\u001b[0m\u001b[0mdot\u001b[0m\u001b[0;34m(\u001b[0m\u001b[0mpoints\u001b[0m\u001b[0;34m.\u001b[0m\u001b[0mT\u001b[0m\u001b[0;34m)\u001b[0m\u001b[0;34m.\u001b[0m\u001b[0mT\u001b[0m\u001b[0;34m\u001b[0m\u001b[0;34m\u001b[0m\u001b[0m\n\u001b[0m\u001b[1;32m    330\u001b[0m \u001b[0;34m\u001b[0m\u001b[0m\n\u001b[1;32m    331\u001b[0m     \u001b[0;32mif\u001b[0m \u001b[0mcenter\u001b[0m \u001b[0;32mis\u001b[0m \u001b[0;32mNone\u001b[0m\u001b[0;34m:\u001b[0m\u001b[0;34m\u001b[0m\u001b[0;34m\u001b[0m\u001b[0m\n",
            "\u001b[0;31mValueError\u001b[0m: shapes (3,3) and (0,) not aligned: 3 (dim 1) != 0 (dim 0)"
          ]
        }
      ]
    },
    {
      "cell_type": "code",
      "metadata": {
        "id": "uAKgExgM-HcP"
      },
      "source": [
        "# You can already export \"colorless\" mesh if you don't need color\n",
        "# mcubes.export_mesh(vertices, triangles, f\"{scene_name}.dae\")\n",
        "mcubes.export_mesh(vertices, triangles, f\"mb.dae\")"
      ],
      "execution_count": null,
      "outputs": []
    },
    {
      "cell_type": "markdown",
      "metadata": {
        "id": "SxUKX2SU_AHn"
      },
      "source": [
        "# Extract colored mesh\n",
        "Once you find the best range, now **RESTART** the notebook(Runtime->Restart runtime), and copy the configs to the following cell and execute it."
      ]
    },
    {
      "cell_type": "code",
      "metadata": {
        "colab": {
          "base_uri": "https://localhost:8080/"
        },
        "id": "1esQrk6a-UwR",
        "outputId": "b1dcff29-b036-49bb-f179-4e6a919235ec"
      },
      "source": [
        "%cd /content/nerf_pl\n",
        "\n",
        "# Copy the variables you have above here! ####\n",
        "\n",
        "# img_wh = (1080, 1080) # full resolution of the input images\n",
        "# dataset_name = 'blender' # blender or llff (own data)\n",
        "# scene_name = 'mb' # whatever you want\n",
        "# root_dir = '/content/drive/My Drive/other_insect/mb' # the folder containing data (images/ and poses_bounds.npy)\n",
        "# ckpt_path = '/content/epoch=30.ckpt' # the model path\n",
        "\n",
        "\n",
        "N = 635 # controls the resolution, set this number small here because we're only finding\n",
        "        # good ranges here, not yet for mesh reconstruction; we can set this number high\n",
        "        # when it comes to final reconstruction.\n",
        "xmin, xmax = -1.2, 1 # left/right range\n",
        "ymin, ymax = -1.2, 1 # forward/backward range\n",
        "zmin, zmax = -1.2, 1 # up/down range\n",
        "## Attention! the ranges MUST have the same length!\n",
        "sigma_threshold = 10.  # controls the noise (lower=maybe more noise; higher=some mesh might be missing)\n",
        "###############################################\n",
        "\n",
        "import os\n",
        "os.environ['ROOT_DIR'] = root_dir\n",
        "os.environ['DATASET_NAME'] = dataset_name\n",
        "os.environ['SCENE_NAME'] = scene_name\n",
        "os.environ['IMG_SIZE'] = f\"{img_wh[0]} {img_wh[1]}\"\n",
        "os.environ['CKPT_PATH'] = ckpt_path\n",
        "os.environ['N_GRID'] = \"635\" # final resolution. You can set this number high to preserve more details\n",
        "os.environ['X_RANGE'] = f\"{xmin} {xmax}\"\n",
        "os.environ['Y_RANGE'] = f\"{ymin} {ymax}\"\n",
        "os.environ['Z_RANGE'] = f\"{zmin} {zmax}\"\n",
        "os.environ['SIGMA_THRESHOLD'] = str(sigma_threshold)\n",
        "os.environ['OCC_THRESHOLD'] = \"0.1\" # probably doesn't require tuning. If you find the color is not close\n",
        "                                    # to real, try to set this number smaller \n",
        "\n",
        "!python extract_color_mesh.py \\\n",
        "    --root_dir \"$ROOT_DIR\" \\\n",
        "    --dataset_name $DATASET_NAME \\\n",
        "    --scene_name $SCENE_NAME \\\n",
        "    --img_wh $IMG_SIZE \\\n",
        "    --ckpt_path $CKPT_PATH \\\n",
        "    --N_grid $N_GRID \\\n",
        "    --x_range $X_RANGE \\\n",
        "    --y_range $Y_RANGE \\\n",
        "    --z_range $Z_RANGE \\\n",
        "    --sigma_threshold $SIGMA_THRESHOLD \\\n",
        "    --occ_threshold $OCC_THRESHOLD"
      ],
      "execution_count": null,
      "outputs": [
        {
          "output_type": "stream",
          "text": [
            "/content/nerf_pl\n",
            "usage: extract_color_mesh.py [-h] [--root_dir ROOT_DIR]\n",
            "                             [--dataset_name {blender,llff}]\n",
            "                             [--scene_name SCENE_NAME]\n",
            "                             [--img_wh IMG_WH [IMG_WH ...]]\n",
            "                             [--N_samples N_SAMPLES] [--chunk CHUNK]\n",
            "                             --ckpt_path CKPT_PATH [--N_grid N_GRID]\n",
            "                             [--x_range X_RANGE [X_RANGE ...]]\n",
            "                             [--y_range Y_RANGE [Y_RANGE ...]]\n",
            "                             [--z_range Z_RANGE [Z_RANGE ...]]\n",
            "                             [--sigma_threshold SIGMA_THRESHOLD]\n",
            "                             [--occ_threshold OCC_THRESHOLD]\n",
            "                             [--use_vertex_normal]\n",
            "                             [--N_importance N_IMPORTANCE] [--near_t NEAR_T]\n",
            "extract_color_mesh.py: error: unrecognized arguments: Drive/nerf/cc/epoch=17.ckpt\n"
          ],
          "name": "stdout"
        }
      ]
    },
    {
      "cell_type": "code",
      "metadata": {
        "id": "5TQ1DnK3_zs4"
      },
      "source": [
        ""
      ],
      "execution_count": null,
      "outputs": []
    }
  ]
}